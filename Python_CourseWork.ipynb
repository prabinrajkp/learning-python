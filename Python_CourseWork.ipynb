{
 "cells": [
  {
   "cell_type": "markdown",
   "metadata": {},
   "source": [
    "# Python Coursework"
   ]
  },
  {
   "cell_type": "markdown",
   "metadata": {},
   "source": [
    "## KnowHive.in"
   ]
  },
  {
   "cell_type": "markdown",
   "metadata": {},
   "source": [
    " Task 1 - Introduce yourself\n",
    "    \n",
    "    Welcome to Python Assignments ! We are very excited to begin building this community together, so to get started, we encourage you to use this  to introduce yourself "
   ]
  },
  {
   "cell_type": "markdown",
   "metadata": {},
   "source": [
    "# PRABIN RAJ K P\n",
    "## MSc data science \n",
    "## Dept. of Future Studies\n"
   ]
  },
  {
   "cell_type": "markdown",
   "metadata": {},
   "source": [
    "Task 2 - Write a python code to Print \"Hello World\""
   ]
  },
  {
   "cell_type": "code",
   "execution_count": 1,
   "metadata": {},
   "outputs": [
    {
     "name": "stdout",
     "output_type": "stream",
     "text": [
      "Hello World\n"
     ]
    }
   ],
   "source": [
    "print('Hello World')"
   ]
  },
  {
   "cell_type": "markdown",
   "metadata": {},
   "source": [
    "Task 3 - Write a python code to Calculate your BMI ?\n",
    "\n",
    "Hint - (BMI = weight / height 2 )"
   ]
  },
  {
   "cell_type": "code",
   "execution_count": 3,
   "metadata": {},
   "outputs": [
    {
     "name": "stdout",
     "output_type": "stream",
     "text": [
      "Enter the height in meters: 1.80\n",
      "Enter the weight in kilograms: 85\n",
      "BMI= 26.234567901234566\n"
     ]
    }
   ],
   "source": [
    "height=input('Enter the height in meters: ')\n",
    "weight=input('Enter the weight in kilograms: ')\n",
    "h=float(height)\n",
    "w=int(weight)\n",
    "bmi=w/(h*h)\n",
    "print(\"BMI=\",bmi)"
   ]
  },
  {
   "cell_type": "markdown",
   "metadata": {},
   "source": [
    "Task 4 - Type conversion \n",
    "\n",
    "Give some python type conversion examples"
   ]
  },
  {
   "cell_type": "code",
   "execution_count": 4,
   "metadata": {},
   "outputs": [
    {
     "name": "stdout",
     "output_type": "stream",
     "text": [
      "enter a number: 10\n",
      "10\n",
      "10.0\n"
     ]
    }
   ],
   "source": [
    "n=input(\"enter a number: \")\n",
    "n1=int(n)\n",
    "n2=float(n)\n",
    "print(n1)\n",
    "print(n2)"
   ]
  },
  {
   "cell_type": "markdown",
   "metadata": {},
   "source": [
    "Task 5 - How much is your 100 inr worth after 7 years?\n",
    "\n",
    "Suppose you have 100 inr, which you can invest with a 10% . year. After one year, it's 100×1.1=110 inr , and return each after two years it's 100×1.1×1.1=121 . Develope code to calculate how much money you end up with after 7 years, and print the result. (Using variables)\n",
    "\n",
    "Output - print(\"I started with \" + str(savings) + \" and now have \" + str(result) + \". Awesome!\")"
   ]
  },
  {
   "cell_type": "code",
   "execution_count": 13,
   "metadata": {},
   "outputs": [
    {
     "name": "stdout",
     "output_type": "stream",
     "text": [
      "i starteds with 100 and now have 194.87171000000015.Awsome!\n"
     ]
    }
   ],
   "source": [
    "s=r=100\n",
    "#print(\"initial savings:\",s)\n",
    "i=1\n",
    "while i<=7:\n",
    "    r=r*1.1\n",
    "    i=i+1\n",
    "print(\"i starteds with \"+str(s)+\" and now have \"+ str(r)+\".Awsome!\")\n",
    "    \n",
    "\n"
   ]
  },
  {
   "cell_type": "markdown",
   "metadata": {},
   "source": [
    "Task 6 - Python code for explaining the various operators in Python\n"
   ]
  },
  {
   "cell_type": "code",
   "execution_count": 4,
   "metadata": {},
   "outputs": [
    {
     "name": "stdout",
     "output_type": "stream",
     "text": [
      "a=10 b=5\n",
      "a+b= 15\n",
      "a-b= 5\n",
      "a*b= 50\n",
      "b/a= 0.5\n",
      "a//3= 3\n",
      "11%3= 2\n"
     ]
    }
   ],
   "source": [
    "a=10\n",
    "b=5\n",
    "print(\"a=\"+str(a)+ \" b=\"+str(b))\n",
    "#addition\n",
    "print(\"a+b=\",a+b)\n",
    "#subtraction\n",
    "print(\"a-b=\",a-b)\n",
    "#Multiplication\n",
    "print(\"a*b=\",a*b)\n",
    "#division\n",
    "print(\"b/a=\",b/a)\n",
    "#floor division\n",
    "print(\"a//3=\",a//3)\n",
    "#modulus\n",
    "print(\"11%3=\",11%3)\n",
    "\n",
    "\n"
   ]
  },
  {
   "cell_type": "markdown",
   "metadata": {},
   "source": [
    "Task 7 - Create your own tuple with 6 elements and perform various slicing operations in tuples"
   ]
  },
  {
   "cell_type": "code",
   "execution_count": 15,
   "metadata": {},
   "outputs": [
    {
     "name": "stdout",
     "output_type": "stream",
     "text": [
      "[12, 2, 11, 8, 25, 6]\n",
      "12\n",
      "[12, 2, 11]\n",
      "[11, 8, 25, 6]\n",
      "11\n"
     ]
    },
    {
     "data": {
      "text/plain": [
       "64"
      ]
     },
     "execution_count": 15,
     "metadata": {},
     "output_type": "execute_result"
    }
   ],
   "source": [
    "x=(12,2,11,8,25,6)\n",
    "print(x)\n",
    "type(x)\n",
    "print(x[0])\n",
    "print(x[0:3])\n",
    "print(x[-4:6])\n",
    "print(x[2])\n",
    "sum(x)\n"
   ]
  },
  {
   "cell_type": "markdown",
   "metadata": {},
   "source": [
    "Task 8 - Try Shopping Cart model using Python Data Structure - List\n",
    "\n",
    "Hint - \n",
    "\n",
    "shoplist = ['apple', 'mango', 'carrot', 'banana']\n",
    "\n",
    "print('I have', len(shoplist), 'items to purchase.', shoplist)\n",
    "\n",
    "print('\\nI also have to buy rice.')\n",
    "\n",
    "shoplist.append('rice')\n",
    "\n",
    "print('My shopping list is now', shoplist)\n",
    "\n",
    "print('I will sort my list now')\n",
    "\n",
    "shoplist.sort()\n",
    "\n",
    "print('Sorted shopping list is', shoplist)\n",
    "\n",
    "print('The first item I will buy is', shoplist[0])\n",
    "\n",
    "olditem = shoplist[0]\n",
    "\n",
    "del shoplist[0]\n",
    "\n",
    "print('I bought the', olditem)\n",
    "\n",
    "print('My shopping list is now', shoplist)\n"
   ]
  },
  {
   "cell_type": "code",
   "execution_count": 16,
   "metadata": {},
   "outputs": [
    {
     "name": "stdout",
     "output_type": "stream",
     "text": [
      "I have 4 items to purchase. ['apple', 'mango', 'carrot', 'banana']\n",
      "\n",
      "I also have to buy rice.\n",
      "My shopping list is now ['apple', 'mango', 'carrot', 'banana', 'rice']\n",
      "I will sort my list now\n",
      "Sorted shopping list is ['apple', 'banana', 'carrot', 'mango', 'rice']\n",
      "The first item I will buy is apple\n",
      "I bought the apple\n",
      "My shopping list is now ['banana', 'carrot', 'mango', 'rice']\n"
     ]
    }
   ],
   "source": [
    "shoplist = ['apple', 'mango', 'carrot', 'banana']\n",
    "\n",
    "print('I have', len(shoplist), 'items to purchase.', shoplist)\n",
    "\n",
    "print('\\nI also have to buy rice.')\n",
    "\n",
    "shoplist.append('rice')\n",
    "\n",
    "print('My shopping list is now', shoplist)\n",
    "\n",
    "print('I will sort my list now')\n",
    "\n",
    "shoplist.sort()\n",
    "\n",
    "print('Sorted shopping list is', shoplist)\n",
    "\n",
    "print('The first item I will buy is', shoplist[0])\n",
    "\n",
    "olditem = shoplist[0]\n",
    "\n",
    "del shoplist[0]\n",
    "\n",
    "print('I bought the', olditem)\n",
    "\n",
    "print('My shopping list is now', shoplist)"
   ]
  },
  {
   "cell_type": "markdown",
   "metadata": {},
   "source": [
    "Task 9 - Write a python code to grade your marks?\n",
    "\n",
    "Hint - Take a variable \"mark\" and assign some values to it and print \"Grade A\" if \"mark\"  is greater than 90, \"Grade B\" if \"mark\"  is greater than 60 but less than or equal to 90 and \"Grade F\" Otherwise. "
   ]
  },
  {
   "cell_type": "code",
   "execution_count": 23,
   "metadata": {},
   "outputs": [
    {
     "name": "stdout",
     "output_type": "stream",
     "text": [
      "Enter your mark: 64\n",
      "Grade B\n"
     ]
    }
   ],
   "source": [
    "mark=float(input('Enter your mark: '))\n",
    "if mark>=90:\n",
    "    print(\"Grade A\")\n",
    "elif mark>=60:\n",
    "    print(\"Grade B\")\n",
    "else:\n",
    "    print(\"Grade F\")\n"
   ]
  },
  {
   "cell_type": "markdown",
   "metadata": {},
   "source": [
    "Task 10 - Write a for loop to print all the numbers between 10 and 50"
   ]
  },
  {
   "cell_type": "code",
   "execution_count": 32,
   "metadata": {},
   "outputs": [
    {
     "name": "stdout",
     "output_type": "stream",
     "text": [
      "10\n",
      "11\n",
      "12\n",
      "13\n",
      "14\n",
      "15\n",
      "16\n",
      "17\n",
      "18\n",
      "19\n",
      "20\n",
      "21\n",
      "22\n",
      "23\n",
      "24\n",
      "25\n",
      "26\n",
      "27\n",
      "28\n",
      "29\n",
      "30\n",
      "31\n",
      "32\n",
      "33\n",
      "34\n",
      "35\n",
      "36\n",
      "37\n",
      "38\n",
      "39\n",
      "40\n",
      "41\n",
      "42\n",
      "43\n",
      "44\n",
      "45\n",
      "46\n",
      "47\n",
      "48\n",
      "49\n"
     ]
    }
   ],
   "source": [
    "\n",
    "for i in range(10,50):\n",
    "    print(i)\n"
   ]
  },
  {
   "cell_type": "markdown",
   "metadata": {},
   "source": [
    "Task 11 - Write a for loop to print all the odd numbers between 10 and 50\n"
   ]
  },
  {
   "cell_type": "code",
   "execution_count": 33,
   "metadata": {},
   "outputs": [
    {
     "name": "stdout",
     "output_type": "stream",
     "text": [
      "11\n",
      "13\n",
      "15\n",
      "17\n",
      "19\n",
      "21\n",
      "23\n",
      "25\n",
      "27\n",
      "29\n",
      "31\n",
      "33\n",
      "35\n",
      "37\n",
      "39\n",
      "41\n",
      "43\n",
      "45\n",
      "47\n",
      "49\n"
     ]
    }
   ],
   "source": [
    "for i in range(10,50):\n",
    "    if i%2!=0:\n",
    "        print(i)"
   ]
  },
  {
   "cell_type": "markdown",
   "metadata": {},
   "source": [
    "Task 12 - Create a function that takes two numbers as argument and returns the greater of the two.\n"
   ]
  },
  {
   "cell_type": "code",
   "execution_count": 41,
   "metadata": {},
   "outputs": [
    {
     "name": "stdout",
     "output_type": "stream",
     "text": [
      "enter the two numbers:\n",
      "44\n",
      "654\n",
      "654\n"
     ]
    }
   ],
   "source": [
    "print(\"enter the two numbers:\")\n",
    "a=int(input())\n",
    "b=int(input())\n",
    "if a>b:\n",
    "    print(a)\n",
    "elif a<b:\n",
    "    print(b)\n",
    "else:\n",
    "    print(\"the numbers are equal\")"
   ]
  },
  {
   "cell_type": "code",
   "execution_count": null,
   "metadata": {},
   "outputs": [],
   "source": []
  }
 ],
 "metadata": {
  "kernelspec": {
   "display_name": "Python 3",
   "language": "python",
   "name": "python3"
  },
  "language_info": {
   "codemirror_mode": {
    "name": "ipython",
    "version": 3
   },
   "file_extension": ".py",
   "mimetype": "text/x-python",
   "name": "python",
   "nbconvert_exporter": "python",
   "pygments_lexer": "ipython3",
   "version": "3.8.5"
  }
 },
 "nbformat": 4,
 "nbformat_minor": 4
}
