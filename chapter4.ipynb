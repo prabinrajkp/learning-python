{
 "cells": [
  {
   "cell_type": "markdown",
   "metadata": {},
   "source": [
    "# Prabin Raj K P\n",
    "## MSc Data Science\n",
    "## Dept. of Futurer Studies\n"
   ]
  },
  {
   "cell_type": "markdown",
   "metadata": {},
   "source": [
    "### Practice Problems - chapter 4"
   ]
  },
  {
   "cell_type": "markdown",
   "metadata": {},
   "source": [
    "4.1Start by executing the assignment:\n",
    "\n",
    "s = '0123456789'\n",
    "\n",
    "Now write expressions using string s and the indexing operator that evaluate to:\n",
    "\n",
    "(a) '234'\n",
    "\n",
    "(b) '78'\n",
    "\n",
    "(c) '1234567'\n",
    "\n",
    "(d) '0123'\n",
    "\n",
    "(e) '789'"
   ]
  },
  {
   "cell_type": "code",
   "execution_count": 3,
   "metadata": {},
   "outputs": [
    {
     "data": {
      "text/plain": [
       "'234'"
      ]
     },
     "execution_count": 3,
     "metadata": {},
     "output_type": "execute_result"
    }
   ],
   "source": [
    "s = '0123456789'\n",
    "s[2:5]"
   ]
  },
  {
   "cell_type": "code",
   "execution_count": 5,
   "metadata": {},
   "outputs": [
    {
     "data": {
      "text/plain": [
       "'78'"
      ]
     },
     "execution_count": 5,
     "metadata": {},
     "output_type": "execute_result"
    }
   ],
   "source": [
    "s[-3:-1]"
   ]
  },
  {
   "cell_type": "code",
   "execution_count": 6,
   "metadata": {},
   "outputs": [
    {
     "data": {
      "text/plain": [
       "'1234567'"
      ]
     },
     "execution_count": 6,
     "metadata": {},
     "output_type": "execute_result"
    }
   ],
   "source": [
    "s[1:-2]"
   ]
  },
  {
   "cell_type": "code",
   "execution_count": 7,
   "metadata": {},
   "outputs": [
    {
     "data": {
      "text/plain": [
       "'0123'"
      ]
     },
     "execution_count": 7,
     "metadata": {},
     "output_type": "execute_result"
    }
   ],
   "source": [
    "s[:4]"
   ]
  },
  {
   "cell_type": "code",
   "execution_count": 8,
   "metadata": {},
   "outputs": [
    {
     "data": {
      "text/plain": [
       "'789'"
      ]
     },
     "execution_count": 8,
     "metadata": {},
     "output_type": "execute_result"
    }
   ],
   "source": [
    "s[-3:]"
   ]
  },
  {
   "cell_type": "markdown",
   "metadata": {},
   "source": [
    "Assuming that variable forecast has been assigned string\n",
    "'It will be a sunny day today'\n",
    "write Python statements corresponding to these assignments:\n",
    "\n",
    "(a) To variable count, the number of occurrences of string 'day' in string forecast.\n",
    "\n",
    "(b) To variable weather, the index where substring 'sunny' starts.\n",
    "\n",
    "(c) To variable change, a copy of forecast in which every occurrence of substring\n",
    "'sunny' is replaced by 'cloudy"
   ]
  },
  {
   "cell_type": "code",
   "execution_count": 16,
   "metadata": {},
   "outputs": [
    {
     "data": {
      "text/plain": [
       "2"
      ]
     },
     "execution_count": 16,
     "metadata": {},
     "output_type": "execute_result"
    }
   ],
   "source": [
    "forecast='It will be a sunny day today'\n",
    "count=forecast.count('day')\n",
    "count"
   ]
  },
  {
   "cell_type": "code",
   "execution_count": 18,
   "metadata": {},
   "outputs": [
    {
     "data": {
      "text/plain": [
       "13"
      ]
     },
     "execution_count": 18,
     "metadata": {},
     "output_type": "execute_result"
    }
   ],
   "source": [
    "weather=forecast.find('sunny')\n",
    "weather"
   ]
  },
  {
   "cell_type": "code",
   "execution_count": 20,
   "metadata": {},
   "outputs": [
    {
     "data": {
      "text/plain": [
       "'It will be a cloudyy day today'"
      ]
     },
     "execution_count": 20,
     "metadata": {},
     "output_type": "execute_result"
    }
   ],
   "source": [
    "change=forecast.replace(\"sunny\",\"cloudy\")\n",
    "change"
   ]
  },
  {
   "cell_type": "markdown",
   "metadata": {},
   "source": [
    "4.3 Write a statement that prints the values of variables last, first, and middle in one line,\n",
    "separated by a horizontal tab character. (The Python escape sequence for the horizontal tab\n",
    "character is \\t.) If the variables are assigned like this:\n",
    "\n",
    "last = 'Smith'\n",
    "\n",
    "first = 'John'\n",
    "\n",
    "middle = 'Paul'\n",
    "\n",
    "the output should be:\n",
    "\n",
    "Smith\n",
    "John\n",
    "Paul"
   ]
  },
  {
   "cell_type": "code",
   "execution_count": 32,
   "metadata": {},
   "outputs": [
    {
     "name": "stdout",
     "output_type": "stream",
     "text": [
      "Smith \t John \t Paul\n"
     ]
    }
   ],
   "source": [
    "last = 'Smith'\n",
    "first = 'John'\n",
    "middle = 'Paul'\n",
    "print(last,'\\t', first,'\\t', middle,  )\n"
   ]
  },
  {
   "cell_type": "markdown",
   "metadata": {},
   "source": [
    "4.4 Write function even() that takes a positive integer n as input and prints on the screen all\n",
    "numbers between, and including, 2 and n divisible by 2 or by 3, using this output format:\n",
    "\n",
    "even(17)\n",
    "    \n",
    "2, 3, 4, 6, 8, 9, 10, 12, 14, 15, 16,"
   ]
  },
  {
   "cell_type": "code",
   "execution_count": 45,
   "metadata": {
    "scrolled": true
   },
   "outputs": [
    {
     "name": "stdout",
     "output_type": "stream",
     "text": [
      "2, 3, 4, 6, 8, 9, 10, 12, 14, 15, 16, 18, 20, 21, 22, 24, "
     ]
    }
   ],
   "source": [
    "def even(n):\n",
    "    for i in range(2, n+1):\n",
    "        if i%2 == 0 or i%3 == 0:\n",
    "            print(i, end=', ' )\n",
    "even(25)"
   ]
  },
  {
   "cell_type": "markdown",
   "metadata": {},
   "source": [
    "4.5 assuming variables\n",
    "first, last, street, number, city, state, zipcode have already\n",
    "been assigned. Write a print statement that creates a mailing label:\n",
    "\n",
    "John Doe\n",
    "123 Main Street\n",
    "AnyCity, AS 09876\n",
    "assuming that:\n",
    "\n",
    "first = 'John'\n",
    "\n",
    "last = 'Doe'\n",
    "\n",
    "street = 'Main Street'\n",
    "\n",
    "number = 123\n",
    "\n",
    "city = 'AnyCity'\n",
    "\n",
    "state = 'AS'\n",
    "zipcode = '09876'"
   ]
  },
  {
   "cell_type": "code",
   "execution_count": 48,
   "metadata": {},
   "outputs": [
    {
     "name": "stdout",
     "output_type": "stream",
     "text": [
      "John Doe\n",
      "123 Main Street\n",
      "AnyCity, AS 09876\n"
     ]
    }
   ],
   "source": [
    "first = 'John'\n",
    "last = 'Doe'\n",
    "street = 'Main Street'\n",
    "number = 123\n",
    "city = 'AnyCity'\n",
    "state = 'AS' \n",
    "zipcode = '09876'\n",
    "fstring = '{} {}\\n{} {}\\n{}, {} {}'\n",
    "print(fstring.format(first,last,number,street,city,state,zipcode))"
   ]
  },
  {
   "cell_type": "markdown",
   "metadata": {},
   "source": [
    "Implement function roster() that takes a list containing student information and prints\n",
    "out a roster, as shown below. The student information, consisting of the student’s last name,\n",
    "first name, class, and average course grade, will be stored in that order in a list. Therefore,\n",
    "the input list is a list of lists. Make sure the roster printed out has 10 slots for every string\n",
    "value and 8 for the grade, including 2 slots for the decimal part.\n",
    "    \n",
    "    students = []\n",
    "    \n",
    "    students.append([ 'DeMoines' , 'Jim' , 'Sophomore' , 3.45])\n",
    "    \n",
    "    students.append([ 'Pierre' , 'Sophie' , 'Sophomore' , 4.0])\n",
    "    \n",
    "    students.append([ 'Columbus' , 'Maria' , 'Senior' , 2.5])\n",
    "    \n",
    "    students.append([ 'Phoenix' , 'River' , 'Junior' , 2.45])\n",
    "    \n",
    "    students.append([ 'Olympis' , 'Edgar' , 'Junior' , 3.99])\n",
    "    \n",
    "    roster(students)\n"
   ]
  },
  {
   "cell_type": "code",
   "execution_count": 64,
   "metadata": {},
   "outputs": [
    {
     "name": "stdout",
     "output_type": "stream",
     "text": [
      "Last      First     Class         Average    Grade\n",
      "DeMoines  Jim       Sophomore     3.45\n",
      "Pierre    Sophie    Sophomore     4.00\n",
      "Columbus  Maria     Senior        2.50\n",
      "Phoenix   River     Junior        2.45\n",
      "Olympis   Edgar     Junior        3.99\n"
     ]
    }
   ],
   "source": [
    "students = []\n",
    "\n",
    "students.append([ 'DeMoines' , 'Jim' , 'Sophomore' , 3.45])\n",
    "\n",
    "students.append([ 'Pierre' , 'Sophie' , 'Sophomore' , 4.0])\n",
    "\n",
    "students.append([ 'Columbus' , 'Maria' , 'Senior' , 2.5])\n",
    "\n",
    "students.append([ 'Phoenix' , 'River' , 'Junior' , 2.45])\n",
    "\n",
    "students.append([ 'Olympis' , 'Edgar' , 'Junior' , 3.99])\n",
    "def roster(students):\n",
    "    'prints average grade for a roster of students'\n",
    "    print( 'Last      First     Class         Average    Grade' )\n",
    "    for student in students:\n",
    "        print( '{:10}{:10}{:10}{:8.2f}' .format(student[0],\n",
    "        student[1], student[2], student[3]))\n",
    "roster(students)"
   ]
  },
  {
   "cell_type": "markdown",
   "metadata": {},
   "source": [
    "4.7 Start by setting t to be the local time 1, 500, 000, 000 seconds from the start of January 1,\n",
    "1970 UTC:\n",
    "\n",
    " import time\n",
    " \n",
    " t = time.localtime(1500000000)\n",
    " \n",
    "Construct the next strings by using the string time format function strftime():\n",
    "\n",
    "(a) 'Thursday, July 13 2017'\n",
    "\n",
    "(b) '09:40 PM Central Daylight Time on 07/13/2017'\n",
    "\n",
    "(c) 'I will meet you on Thu July 13 at 09:40 PM.'"
   ]
  },
  {
   "cell_type": "code",
   "execution_count": null,
   "metadata": {},
   "outputs": [],
   "source": [
    "import time\n",
    "t=time.localtime(1500000000)\n",
    "time.strftime('%A, %B %d %Y', t)\n",
    "time.strftime('%I:%M %p %Z Central Daylight Time on %m/%d/%Y',t)\n",
    "time.strftime('I will meet you on %a %B %d at %I:%M %p.', t)"
   ]
  },
  {
   "cell_type": "markdown",
   "metadata": {},
   "source": [
    "Write function stringCount() that takes two string inputs—a file name and a target string—\n",
    "and returns the number of occurrences of the target string in the file.\n",
    "\n",
    " stringCount( 'example.txt' , 'line' )\n",
    " \n"
   ]
  },
  {
   "cell_type": "code",
   "execution_count": 12,
   "metadata": {},
   "outputs": [
    {
     "data": {
      "text/plain": [
       "17"
      ]
     },
     "execution_count": 12,
     "metadata": {},
     "output_type": "execute_result"
    }
   ],
   "source": [
    "def stringCount(filename, target):\n",
    "    'returns the number of occurrences of target in file filename'\n",
    "    infile = open(filename)\n",
    "    content = infile.read()\n",
    "    infile.close()\n",
    "    return content.count(target)"
   ]
  },
  {
   "cell_type": "markdown",
   "metadata": {},
   "source": [
    "4.9 Write function words() that takes one input argument—a file name—and returns the list\n",
    "of actual words (without punctuation symbols !,.:;?) in the file."
   ]
  },
  {
   "cell_type": "code",
   "execution_count": 11,
   "metadata": {},
   "outputs": [],
   "source": [
    "def words(filename):\n",
    "    infile = open(filename, 'r' )\n",
    "    content = infile.read()\n",
    "    infile.close()\n",
    "    table = str.maketrans( '!,.:;?' , 6* ' ' )\n",
    "    content=content.translate(table)\n",
    "    content=content.lower()\n",
    "    return content.split()\n",
    "\n"
   ]
  },
  {
   "cell_type": "markdown",
   "metadata": {},
   "source": [
    "4.10 Implement function myGrep() that takes as input two strings, a file name and a target string,\n",
    "and prints every line of the file that contains the target string as a substring."
   ]
  },
  {
   "cell_type": "code",
   "execution_count": 18,
   "metadata": {},
   "outputs": [],
   "source": [
    "def myGrep(filename, target):\n",
    "    infile = open(filename)\n",
    "    for line in infile:\n",
    "        if target in line:\n",
    "            print(line, end= '' )\n"
   ]
  },
  {
   "cell_type": "markdown",
   "metadata": {},
   "source": [
    "### Exeercise problems"
   ]
  },
  {
   "cell_type": "markdown",
   "metadata": {},
   "source": [
    "4.12 Start by running, in the interactive shell, this assignment statement:\n",
    "\n",
    "s = 'abcdefghijklmnopqrstuvwxyz'\n",
    "\n",
    "Now write expressions using string s and the indexing operator that evaluate to 'bcd',\n",
    "'abc', 'defghijklmnopqrstuvwx', 'wxy', and 'wxyz'."
   ]
  },
  {
   "cell_type": "code",
   "execution_count": 25,
   "metadata": {},
   "outputs": [
    {
     "name": "stdout",
     "output_type": "stream",
     "text": [
      "bcd\n",
      "abc\n",
      "defghijklmnopqrstuvwx\n",
      "wxy\n",
      "wxyz\n"
     ]
    }
   ],
   "source": [
    "s = 'abcdefghijklmnopqrstuvwxyz'\n",
    "print(s[1:4])\n",
    "print(s[:3])\n",
    "print(s[3:-2])\n",
    "print(s[-4:-1])\n",
    "print(s[-4:])"
   ]
  },
  {
   "cell_type": "markdown",
   "metadata": {},
   "source": [
    "4.13 Let string s be defined as:\n",
    "\n",
    "s = 'abcdefghijklmnopqrstuvwxyz'\n",
    "\n",
    "Write Python Boolean expressions that correspond to these propositions:\n",
    "\n",
    "(a) The slice consisting of the second and third character of s is 'bc'\n",
    "\n",
    "(b) The slice consisting of the first 14 characters of s is 'abcdefghijklmn'.\n",
    "\n",
    "(c) The slice of s excluding the first 14 characters is 'opqrstuvwxyz'.\n",
    "\n",
    "(d) The slice of s excluding the first and last characters is 'bcdefghijklmnopqrstuvw'."
   ]
  },
  {
   "cell_type": "code",
   "execution_count": 29,
   "metadata": {},
   "outputs": [
    {
     "data": {
      "text/plain": [
       "True"
      ]
     },
     "execution_count": 29,
     "metadata": {},
     "output_type": "execute_result"
    }
   ],
   "source": [
    "s[1:3]==\"bc\""
   ]
  },
  {
   "cell_type": "code",
   "execution_count": 31,
   "metadata": {},
   "outputs": [
    {
     "data": {
      "text/plain": [
       "True"
      ]
     },
     "execution_count": 31,
     "metadata": {},
     "output_type": "execute_result"
    }
   ],
   "source": [
    "s[:14]=='abcdefghijklmn'"
   ]
  },
  {
   "cell_type": "code",
   "execution_count": 34,
   "metadata": {},
   "outputs": [
    {
     "data": {
      "text/plain": [
       "'pqrstuvwxyz'"
      ]
     },
     "execution_count": 34,
     "metadata": {},
     "output_type": "execute_result"
    }
   ],
   "source": [
    "s[15:]=='opqrstuvwxyz'"
   ]
  },
  {
   "cell_type": "code",
   "execution_count": 35,
   "metadata": {},
   "outputs": [
    {
     "data": {
      "text/plain": [
       "False"
      ]
     },
     "execution_count": 35,
     "metadata": {},
     "output_type": "execute_result"
    }
   ],
   "source": [
    "s[1:-1]=='bcdefghijklmnopqrstuvw'"
   ]
  },
  {
   "cell_type": "markdown",
   "metadata": {},
   "source": [
    "4.14 Translate each part into a Python statement:\n",
    "\n",
    "(a) Assign to variable log the next string, which happens to be a fragment of a log of a\n",
    "request for a text file from a web server:\n",
    "128.0.0.1 - - [12/Feb/2011:10:31:08 -0600] \"GET /docs/test.txt HTTP/1.0\"\n",
    "\n",
    "(b) Assign to variable address the substring of log that ends before the first blank space\n",
    "in log, using the string method split() and the indexing operator.\n",
    "\n",
    "(c) Assign to variable date the splice of string log containing the date (12/Feb ...\n",
    "-6000), using the indexing operator on string log."
   ]
  },
  {
   "cell_type": "code",
   "execution_count": 12,
   "metadata": {},
   "outputs": [
    {
     "name": "stdout",
     "output_type": "stream",
     "text": [
      "128.0.0.1\n",
      "[12/Feb/2011:10:31:08-0600]\n"
     ]
    }
   ],
   "source": [
    "log='128.0.0.1 - - [12/Feb/2011:10:31:08 -0600] \"GET /docs/test.txt HTTP/1.0'\n",
    "s=log.split()\n",
    "adress=s[0]\n",
    "print(adress)\n",
    "date=s[3]+s[4]\n",
    "print(date)\n"
   ]
  },
  {
   "cell_type": "markdown",
   "metadata": {},
   "source": [
    "4.15 For each of the below string values of s, write the expression involving s and the string\n",
    "methods split() that evaluates to list:\n",
    "\n",
    "[ '10' , '20' , '30' , '40' , '50' , '60' ]\n",
    "\n",
    "(a)s='10 20 30 40 50 60'\n",
    "\n",
    "(b)s='10,20,30,40,50,60'\n",
    "\n",
    "(c)s='10&20&30&40&50&60'\n",
    "\n",
    "(d)s='10 - 20 - 30 - 40 - 50 - 60'\n",
    "\n",
    "\n",
    "\n",
    "\n"
   ]
  },
  {
   "cell_type": "code",
   "execution_count": 15,
   "metadata": {},
   "outputs": [
    {
     "data": {
      "text/plain": [
       "['10', '20', '30', '40', '50', '60']"
      ]
     },
     "execution_count": 15,
     "metadata": {},
     "output_type": "execute_result"
    }
   ],
   "source": [
    "s='10 20 30 40 50 60'\n",
    "l1=s.split()\n",
    "l1"
   ]
  },
  {
   "cell_type": "code",
   "execution_count": 16,
   "metadata": {},
   "outputs": [
    {
     "data": {
      "text/plain": [
       "['10', '20', '30', '40', '50', '60']"
      ]
     },
     "execution_count": 16,
     "metadata": {},
     "output_type": "execute_result"
    }
   ],
   "source": [
    "s='10,20,30,40,50,60'\n",
    "l2=s.split(',')\n",
    "l2"
   ]
  },
  {
   "cell_type": "code",
   "execution_count": 17,
   "metadata": {},
   "outputs": [
    {
     "data": {
      "text/plain": [
       "['10', '20', '30', '40', '50', '60']"
      ]
     },
     "execution_count": 17,
     "metadata": {},
     "output_type": "execute_result"
    }
   ],
   "source": [
    "s='10&20&30&40&50&60'\n",
    "l3=s.split('&')\n",
    "l3"
   ]
  },
  {
   "cell_type": "code",
   "execution_count": 18,
   "metadata": {},
   "outputs": [
    {
     "data": {
      "text/plain": [
       "['10', ' 20', ' 30', ' 40', ' 50', ' 60']"
      ]
     },
     "execution_count": 18,
     "metadata": {},
     "output_type": "execute_result"
    }
   ],
   "source": [
    "s='10 - 20 - 30 - 40 - 50 - 60'\n",
    "l4=s.split(' -')\n",
    "l4"
   ]
  },
  {
   "cell_type": "markdown",
   "metadata": {},
   "source": [
    "4.16 Implement a program that requests three words (strings) from the user. Your program\n",
    "should print Boolean value True if the words were entered in dictionary order; otherwise\n",
    "nothing is printed.\n",
    "\n",
    "Enter first word: bass\n",
    "\n",
    "Enter second word: salmon\n",
    "\n",
    "Enter third word: whitefish\n",
    "\n",
    "True"
   ]
  },
  {
   "cell_type": "code",
   "execution_count": 30,
   "metadata": {},
   "outputs": [
    {
     "name": "stdout",
     "output_type": "stream",
     "text": [
      "Enter first word: bass\n",
      "Enter second word: Salmon\n",
      "Enter third word: whitefish\n",
      "True\n"
     ]
    }
   ],
   "source": [
    "check=None\n",
    "for i in ['first','second','third']:\n",
    "    word=input('Enter {} word: '.format(i))\n",
    "    word=word.lower()\n",
    "    if check==None or word>check:\n",
    "        check= word\n",
    "        c=True\n",
    "    elif check>word:\n",
    "        c=False\n",
    "print(c)\n",
    "    "
   ]
  },
  {
   "cell_type": "markdown",
   "metadata": {},
   "source": [
    "4.17 Translate each part into a Python statement using appropriate string methods:\n",
    "    \n",
    "(a) Assign to variable message the string 'The secret of this message is that\n",
    "it is secret.'\n",
    "\n",
    "(b) Assign to variable length the length of string message, using operator len().\n",
    "\n",
    "(c) Assign to variable count the number of times the substring 'secret' appears in\n",
    "string message, using string method count().\n",
    "\n",
    "(d) Assign to variable censored a copy of string message with every occurrence of\n",
    "substring 'secret' replaced by 'xxxxxx', using string method replace()"
   ]
  },
  {
   "cell_type": "code",
   "execution_count": 36,
   "metadata": {},
   "outputs": [
    {
     "name": "stdout",
     "output_type": "stream",
     "text": [
      "48\n",
      "2\n",
      "The xxxxxx of this message is that it is xxxxxx.\n"
     ]
    }
   ],
   "source": [
    "message='The secret of this message is that it is secret.'\n",
    "length=len(message)\n",
    "print(length)\n",
    "cnt=message.count('secret')\n",
    "print(cnt)\n",
    "censored=message.replace('secret','xxxxxx')\n",
    "print(censored)"
   ]
  },
  {
   "cell_type": "markdown",
   "metadata": {},
   "source": [
    "4.18 Suppose variable s has been assigned in this way:\n",
    "\n",
    "s = '''It was the best of times , it was the worst of times; it\n",
    "was the age of wisdom , it was the age of foolishness; it was the\n",
    "epoch of belief , it was the epoch of incredulity; it was ...'''\n",
    "\n",
    "(The beginning of A Tale of Two Cities by Charles Dickens.) Then do the following, in order:\n",
    "\n",
    "(a) Write a sequence of statements that produce a copy of s, named newS, in which char-\n",
    "acters ., ,, ;, and \\n have been replaced by blank spaces.\n",
    "\n",
    "(b) Remove leading and trailing blank spaces in newS (and name the new string newS).\n",
    "\n",
    "(c) Make all the characters in newS lowercase (and name the new string newS).\n",
    "\n",
    "(d) Compute the number of occurrences in newS of string 'it was'.\n",
    "\n",
    "(e) Change every occurrence of was to is (and name the new string newS).\n",
    "\n",
    "(f) Split newS into a list of words and name the list listS."
   ]
  },
  {
   "cell_type": "code",
   "execution_count": 4,
   "metadata": {},
   "outputs": [
    {
     "name": "stdout",
     "output_type": "stream",
     "text": [
      "It was the best of times , it was the worst of times; it was the age of wisdom , it was the age of foolishness; it was the epoch of belief , it was the epoch of incredulity; it was ...\n",
      "7\n",
      "it is the best of times   it is the worst of times  it is the age of wisdom   it is the age of foolishness  it is the epoch of belief   it is the epoch of incredulity  it is\n"
     ]
    },
    {
     "data": {
      "text/plain": [
       "['it',\n",
       " 'is',\n",
       " 'the',\n",
       " 'best',\n",
       " 'of',\n",
       " 'times',\n",
       " 'it',\n",
       " 'is',\n",
       " 'the',\n",
       " 'worst',\n",
       " 'of',\n",
       " 'times',\n",
       " 'it',\n",
       " 'is',\n",
       " 'the',\n",
       " 'age',\n",
       " 'of',\n",
       " 'wisdom',\n",
       " 'it',\n",
       " 'is',\n",
       " 'the',\n",
       " 'age',\n",
       " 'of',\n",
       " 'foolishness',\n",
       " 'it',\n",
       " 'is',\n",
       " 'the',\n",
       " 'epoch',\n",
       " 'of',\n",
       " 'belief',\n",
       " 'it',\n",
       " 'is',\n",
       " 'the',\n",
       " 'epoch',\n",
       " 'of',\n",
       " 'incredulity',\n",
       " 'it',\n",
       " 'is']"
      ]
     },
     "execution_count": 4,
     "metadata": {},
     "output_type": "execute_result"
    }
   ],
   "source": [
    "s = '''It was the best of times , it was the worst of times; it was the age of wisdom , it was the age of foolishness; it was the epoch of belief , it was the epoch of incredulity; it was ...'''\n",
    "print(s)\n",
    "newS=s\n",
    "for i in ['.',',',';']:\n",
    "    newS=newS.replace(i,' ')\n",
    "\n",
    "newS=newS.strip()\n",
    "newS=newS.lower()\n",
    "c=newS.count('it was')\n",
    "newS=newS.replace('was','is')\n",
    "listS=newS.split()\n",
    "\n",
    "print(c)\n",
    "print(newS)\n",
    "listS"
   ]
  },
  {
   "cell_type": "markdown",
   "metadata": {},
   "source": [
    "4.19 Write Python statements that print the next formatted outputs using the already assigned variables first, middle, and last:\n",
    " \n",
    " first = 'Marlena'\n",
    " \n",
    " last = 'Sigel'\n",
    "\n",
    " middle = 'Mae'\n",
    " \n",
    "(a)Sigel, Marlena Mae\n",
    "\n",
    "(b)Sigel, Marlena M.\n",
    "\n",
    "(c)Marlena M. Sigel\n",
    "\n",
    "(d)M. M. Sigel\n",
    "\n",
    "(e)Sigel, M.\n",
    "\n",
    "\n",
    "\n",
    "\n"
   ]
  },
  {
   "cell_type": "code",
   "execution_count": 14,
   "metadata": {},
   "outputs": [
    {
     "name": "stdout",
     "output_type": "stream",
     "text": [
      "Sigel,Marlena Mae\n",
      "Sigel,Marlena M.\n",
      "Marlena M. Sigel\n",
      "M.M. Sigel\n",
      "Sigel, M.\n"
     ]
    }
   ],
   "source": [
    "first = 'Marlena'\n",
    "last = 'Sigel'\n",
    "middle = 'Mae'\n",
    "print('{},{} {}'.format(last,first,middle))\n",
    "print('{},{} {}.'.format(last,first,middle[0]))\n",
    "print('{} {}. {}'.format(first,middle[0],last))\n",
    "print('{}.{}. {}'.format(first[0],middle[0],last))\n",
    "print('{}, {}.'.format(last,first[0]))"
   ]
  },
  {
   "cell_type": "markdown",
   "metadata": {},
   "source": [
    "4.20 Given string values for the sender, recipient, and subject of an email, write a string\n",
    "format expression that uses variables sender, recipient, and subject and that prints as\n",
    "shown here:\n",
    "\n",
    "sender = 'tim@abc.com'\n",
    "\n",
    "recipient = 'tom@xyz.org'\n",
    "\n",
    "subject = 'Hello!'\n",
    "\n",
    "print(???)\n",
    "\n",
    "From: tim@abc.com\n",
    "\n",
    "To: tom@xyz.org\n",
    "\n",
    "Subject: Hello!"
   ]
  },
  {
   "cell_type": "code",
   "execution_count": 19,
   "metadata": {},
   "outputs": [
    {
     "name": "stdout",
     "output_type": "stream",
     "text": [
      "From: tim@abc.com \n",
      "To: tom@xyz.org \n",
      "Subject: Hello!\n"
     ]
    }
   ],
   "source": [
    "sender = 'tim@abc.com'\n",
    "recipient = 'tom@xyz.org'\n",
    "subject = 'Hello!'\n",
    "print('From: {} \\nTo: {} \\nSubject: {}'.format(sender,recipient,subject))\n"
   ]
  },
  {
   "cell_type": "markdown",
   "metadata": {},
   "source": [
    "4.21 Write Python statements that print the values of π and the Euler constant e in the\n",
    "shown formats:\n",
    "\n",
    "    (a)pi=3.1, e = 2.7\n",
    "\n",
    "    (b)pi=3.14, e = 2.72\n",
    "\n",
    "    (c)pi=3.141593e+00, e = 2.718282e+00\n",
    "\n",
    "    (d)pi=3.14159, e = 2.71828\n"
   ]
  },
  {
   "cell_type": "code",
   "execution_count": 7,
   "metadata": {},
   "outputs": [
    {
     "name": "stdout",
     "output_type": "stream",
     "text": [
      "pi=3.1, e=2.7\n",
      "pi=3.14, e=2.72\n",
      "pi=3.141593e+00, e=2.718282e+00\n",
      "pi=3.14159, e=2.71828\n"
     ]
    }
   ],
   "source": [
    "import math\n",
    "p=math.pi\n",
    "e=math.e\n",
    "print('pi={:0.1f}, e={:0.1f}'.format(p,e))\n",
    "print('pi={:0.2f}, e={:0.2f}'.format(p,e))\n",
    "print('pi={0:e}, e={1:e}'.format(p,e))\n",
    "print('pi={:0.5f}, e={:0.5f}'.format(p,e))"
   ]
  },
  {
   "cell_type": "markdown",
   "metadata": {},
   "source": [
    "### Problems"
   ]
  },
  {
   "cell_type": "markdown",
   "metadata": {},
   "source": [
    "4.22 Write a function month() that takes a number between 1 and 12 as input and returns\n",
    "the three-character abbreviation of the corresponding month. Do this without using an if\n",
    "statement, just string operations. Hint: Use a string to store the abbreviations in order.\n",
    "\n",
    "month(1)\n",
    "\n",
    "'Jan'\n",
    "\n",
    "month(11)\n",
    "\n",
    "'Nov'"
   ]
  },
  {
   "cell_type": "code",
   "execution_count": 20,
   "metadata": {},
   "outputs": [
    {
     "name": "stdout",
     "output_type": "stream",
     "text": [
      "Jan\n",
      "Nov\n"
     ]
    }
   ],
   "source": [
    "def month(n):\n",
    "    m='JanFebMarAprMayJunJulAugSepOctNovDec'\n",
    "    print(m[(n-1)*3:3+(n-1)*3])\n",
    "month(1)\n",
    "month(11)"
   ]
  },
  {
   "cell_type": "markdown",
   "metadata": {},
   "source": [
    "4.23 Write a function average() that takes no input but requests that the user enter a\n",
    "sentence. Your function should return the average length of a word in the sentence.\n",
    "\n",
    "average()\n",
    "\n",
    "Enter a sentence: A sample sentence\n",
    "\n",
    "5.0"
   ]
  },
  {
   "cell_type": "code",
   "execution_count": 28,
   "metadata": {},
   "outputs": [
    {
     "name": "stdout",
     "output_type": "stream",
     "text": [
      "Enter a sentence: A sample sentence\n",
      "5.0\n"
     ]
    }
   ],
   "source": [
    "def average ():\n",
    "    s=input(\"Enter a sentence: \")\n",
    "    lst=s.split()\n",
    "    l=len(lst)\n",
    "    a=0\n",
    "    for i in lst:\n",
    "        a=a+len(i)\n",
    "    print(a/l)\n",
    "average()"
   ]
  },
  {
   "cell_type": "markdown",
   "metadata": {},
   "source": [
    "4.24 Implement function cheer() that takes as input a team name (as a string) and prints\n",
    "a cheer as shown:\n",
    "\n",
    " cheer( 'Huskies' )\n",
    " \n",
    "How do you spell winner?\n",
    "\n",
    "I know, I know!\n",
    "\n",
    "H U S K I E S !\n",
    "\n",
    "And that 's how you spell winner!\n",
    "\n",
    "Go Huskies!"
   ]
  },
  {
   "cell_type": "code",
   "execution_count": 8,
   "metadata": {},
   "outputs": [
    {
     "name": "stdout",
     "output_type": "stream",
     "text": [
      "How do you spell winner?\n",
      "I know, I know!\n",
      "H U S K I E S !\n",
      "And that's how you spell winner!\n",
      "Go Huskies!\n"
     ]
    }
   ],
   "source": [
    "def cheer(s):\n",
    "    y=s.upper()\n",
    "    print('How do you spell winner?\\nI know, I know!')\n",
    "    for i in y:\n",
    "        print(i,end=' ')\n",
    "    print('!')\n",
    "    print(\"And that's how you spell winner!\\nGo {}!\".format(s))\n",
    "cheer ('Huskies')"
   ]
  },
  {
   "cell_type": "markdown",
   "metadata": {},
   "source": [
    "4.25 Write function vowelCount() that takes a string as input and counts and prints the\n",
    "number of occurrences of vowels in the string.\n",
    "\n",
    "vowelCount( 'Le Tour de France' )\n",
    "\n",
    "a, e, i, o, and u appear, respectively, 1, 3, 0, 1, 1 times."
   ]
  },
  {
   "cell_type": "code",
   "execution_count": 11,
   "metadata": {},
   "outputs": [
    {
     "name": "stdout",
     "output_type": "stream",
     "text": [
      "a, e, i, o, and u appear, respectively, 1,3,0,1,1 times.\n"
     ]
    }
   ],
   "source": [
    "def vowelCount(s):\n",
    "    a=s.count('a')\n",
    "    e=s.count('e')\n",
    "    i=s.count('i')\n",
    "    o=s.count('o')\n",
    "    u=s.count('u')\n",
    "    print('a, e, i, o, and u appear, respectively, {},{},{},{},{} times.'.format(a,e,i,o,u))\n",
    "vowelCount( 'Le Tour de France' )   \n"
   ]
  },
  {
   "cell_type": "markdown",
   "metadata": {},
   "source": [
    "4.26 The cryptography function crypto() takes as input a string (i.e., the name of a file in\n",
    "the current directory). The function should print the file on the screen with this modification:\n",
    "Every occurrence of string 'secret' in the file should be replaced with string 'xxxxxx'.\n",
    "crypto( 'crypto.txt' )\n",
    "\n",
    "I will tell you my xxxxxx. But first, I have to explain\n",
    "why it is a xxxxxx.\n",
    "And that is all I will tell you about my xxxxxx"
   ]
  },
  {
   "cell_type": "code",
   "execution_count": 12,
   "metadata": {},
   "outputs": [
    {
     "name": "stdout",
     "output_type": "stream",
     "text": [
      "I will tell you my xxxxxx. But first, I have to explain\n",
      "why it is a xxxxxx.\n",
      "And that is all I will tell you about my xxxxxx.\n"
     ]
    }
   ],
   "source": [
    "def crypto(file):\n",
    "    handle=open(file)\n",
    "    p=handle.read()\n",
    "    re=p.replace('secret','xxxxxx')\n",
    "    print(re)\n",
    "    \n",
    "crypto('crypto.txt')\n"
   ]
  },
  {
   "cell_type": "markdown",
   "metadata": {},
   "source": [
    "4.27 Write a function fcopy() that takes as input two file names (as strings) and copies\n",
    "the content of the first file into the second.\n",
    "\n",
    "fcopy( 'example.txt' , 'output.txt' ) open( 'output.txt' ).read()\n",
    " \n",
    "'The 3 lines in this file end with the new line character.\\n\\n\n",
    "\n",
    "There is a blank line above this line.\\n'"
   ]
  },
  {
   "cell_type": "code",
   "execution_count": 17,
   "metadata": {},
   "outputs": [
    {
     "data": {
      "text/plain": [
       "'I will tell you my secret. But first, I have to explain\\nwhy it is a secret.\\nAnd that is all I will tell you about my secret.'"
      ]
     },
     "execution_count": 17,
     "metadata": {},
     "output_type": "execute_result"
    }
   ],
   "source": [
    "def fcopy(a,b):\n",
    "    infile1=open(a)\n",
    "    content1=infile1.read()\n",
    "    infile1.close()\n",
    "    f2=open(b,\"w\")\n",
    "    f2.write(content1)\n",
    "    f2.close()\n",
    "fcopy('crypto.txt' , 'output.txt')\n",
    "open( 'output.txt' ).read()"
   ]
  },
  {
   "cell_type": "markdown",
   "metadata": {},
   "source": [
    "4.28 Implement function links() that takes as input the name of an HTML file (as a\n",
    "string) and returns the number of hyperlinks in that file. To do this you will assume that\n",
    "each hyperlink appears in an anchor tag. You also need to know that every anchor tag ends\n",
    "with the substring </a>.\n",
    "Test your code on HTML file twolinks.html or any HTML file downloaded from the\n",
    "web into the folder where your program is.\n",
    "\n",
    "links( 'twolinks.html' )\n",
    "\n",
    "2"
   ]
  },
  {
   "cell_type": "code",
   "execution_count": 21,
   "metadata": {},
   "outputs": [
    {
     "data": {
      "text/plain": [
       "5"
      ]
     },
     "execution_count": 21,
     "metadata": {},
     "output_type": "execute_result"
    }
   ],
   "source": [
    "def links(f):\n",
    "    file=open(f)\n",
    "    a=file.read()\n",
    "    return a.count(\"</a>\")\n",
    "links(\"homework3.html\")"
   ]
  },
  {
   "cell_type": "markdown",
   "metadata": {},
   "source": [
    "4.29 Write a function stats() that takes one input argument: the name of a text file. The\n",
    "function should print, on the screen, the number of lines, words, and characters in the file;\n",
    "your function should open the file only once.\n",
    "\n",
    "stats( 'example.txt' )\n",
    "\n",
    "line count: 3\n",
    "\n",
    "word count: 20\n",
    "\n",
    "character count: 98"
   ]
  },
  {
   "cell_type": "code",
   "execution_count": 34,
   "metadata": {},
   "outputs": [
    {
     "name": "stdout",
     "output_type": "stream",
     "text": [
      "line count = 25\n",
      "word copunt = 210\n",
      "character count = 950\n"
     ]
    }
   ],
   "source": [
    "def stats(file):\n",
    "    handle=open(file)\n",
    "    lc=0\n",
    "    wc=0\n",
    "    cc=0\n",
    "    for line in handle:\n",
    "        lc=lc+1\n",
    "        lst=line.split()\n",
    "        wc=wc+len(lst)\n",
    "        for word in lst:\n",
    "            cc=cc+len(word)\n",
    "            \n",
    "    print('line count =',lc)\n",
    "    print('word copunt =',wc)\n",
    "    print('character count =',cc)\n",
    "stats('words.txt')"
   ]
  },
  {
   "cell_type": "markdown",
   "metadata": {},
   "source": [
    "4.30 Implement function distribution() that takes as input the name of a file (as a\n",
    "string). This one-line file will contain letter grades separated by blanks. Your function should\n",
    "print the distribution of grades, as shown.\n",
    "\n",
    "distribution( 'grades.txt' )\n",
    "\n",
    "6 students got A\n",
    "\n",
    "2 students got A-\n",
    "\n",
    "3 students got B+\n",
    "\n",
    "2 students got B\n",
    "\n",
    "2 students got B-\n",
    "\n",
    "4 students got C\n",
    "\n",
    "1 student got C-\n",
    "\n",
    "2 students got F"
   ]
  },
  {
   "cell_type": "code",
   "execution_count": 11,
   "metadata": {},
   "outputs": [
    {
     "name": "stdout",
     "output_type": "stream",
     "text": [
      "6 students got A\n",
      "2 students got A-\n",
      "3 students got B+\n",
      "2 students got B\n",
      "2 students got B-\n",
      "4 students got C\n",
      "1 students got C-\n",
      "2 students got F\n"
     ]
    }
   ],
   "source": [
    "def distribution(file):\n",
    "    fh=open(file)\n",
    "    r=fh.read()\n",
    "    lst=r.split()\n",
    "    d=dict()\n",
    "    for i in lst:\n",
    "        d[i]=d.get(i,0)+1\n",
    "    for k,v in d.items():\n",
    "        print('{} students got {}'.format(v,k))\n",
    "distribution('grades.txt')"
   ]
  },
  {
   "cell_type": "markdown",
   "metadata": {},
   "source": [
    "4.31 Implement function duplicate() that takes as input the name (a string) of a file in the\n",
    "current directory and returns True if the file contains duplicate words and False otherwise.\n",
    "\n",
    "duplicate( 'Duplicates.txt' )\n",
    "\n",
    "True\n",
    "\n",
    " duplicate( 'noDuplicates.txt' )\n",
    "\n",
    "False"
   ]
  },
  {
   "cell_type": "code",
   "execution_count": 40,
   "metadata": {},
   "outputs": [
    {
     "name": "stdout",
     "output_type": "stream",
     "text": [
      "True\n",
      "False\n"
     ]
    }
   ],
   "source": [
    "def duplicate(file):\n",
    "    fh=open(file)\n",
    "    txt=fh.read()\n",
    "    lst=txt.split()\n",
    "    tf=False\n",
    "    for i in lst:\n",
    "        c=txt.count(i)\n",
    "        if c>1:\n",
    "            tf=True\n",
    "    print(tf)\n",
    "    \n",
    "duplicate('crypto.txt')\n",
    "duplicate('noDuplicates.txt')"
   ]
  },
  {
   "cell_type": "markdown",
   "metadata": {},
   "source": [
    "4.32 The function censor() takes the name of a file (a string) as input. The function should\n",
    "open the file, read it, and then write it into file censored.txt with this modification: Every\n",
    "occurrence of a four-letter word in the file should be replaced with string 'xxxx'.\n",
    "\n",
    "censor( 'example.txt' )\n",
    "\n",
    "Note that this function produces no output, but it does create file censored.txt in the\n",
    "current folder."
   ]
  },
  {
   "cell_type": "code",
   "execution_count": 71,
   "metadata": {},
   "outputs": [
    {
     "name": "stdout",
     "output_type": "stream",
     "text": [
      " I xxxx xxxx you my secret. But first, I xxxx to explain why it is a secret. And xxxx is all I xxxx xxxx you about my secret.\n"
     ]
    }
   ],
   "source": [
    "def censor(file):\n",
    "    fh=open(file)\n",
    "    txt=fh.read()\n",
    "    lst=txt.split()\n",
    "    tx2=str()\n",
    "    for i in lst:\n",
    "        if len(i)!= 4:\n",
    "            tx2=tx2+' '+i\n",
    "        elif len(i)==4:\n",
    "            tx2=tx2+' '+'xxxx'\n",
    "    handle=open('censored.txt','w')\n",
    "    handle.write(tx2)\n",
    "    handle.close()\n",
    "    \n",
    "    print(tx2)\n",
    "        \n",
    "    \n",
    "censor('crypto.txt')\n"
   ]
  },
  {
   "cell_type": "code",
   "execution_count": null,
   "metadata": {},
   "outputs": [],
   "source": []
  }
 ],
 "metadata": {
  "kernelspec": {
   "display_name": "Python 3",
   "language": "python",
   "name": "python3"
  },
  "language_info": {
   "codemirror_mode": {
    "name": "ipython",
    "version": 3
   },
   "file_extension": ".py",
   "mimetype": "text/x-python",
   "name": "python",
   "nbconvert_exporter": "python",
   "pygments_lexer": "ipython3",
   "version": "3.8.5"
  }
 },
 "nbformat": 4,
 "nbformat_minor": 4
}
