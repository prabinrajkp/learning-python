{
 "cells": [
  {
   "cell_type": "markdown",
   "metadata": {},
   "source": [
    "9.4 Write a program to read through the mbox-short.txt and figure out who has sent the greatest number of mail messages. The program looks for 'From ' lines and takes the second word of those lines as the person who sent the mail. The program creates a Python dictionary that maps the sender's mail address to a count of the number of times they appear in the file. After the dictionary is produced, the program reads through the dictionary using a maximum loop to find the most prolific committer."
   ]
  },
  {
   "cell_type": "code",
   "execution_count": 87,
   "metadata": {},
   "outputs": [
    {
     "name": "stdout",
     "output_type": "stream",
     "text": [
      "Enter file:\n",
      "cwen@iupui.edu 35\n"
     ]
    }
   ],
   "source": [
    "name = input(\"Enter file:\")\n",
    "if len(name) < 1 : name = \"mbox-short.txt\"\n",
    "handle = open(name)\n",
    "counts=dict()\n",
    "sss=list()\n",
    "for line in handle:\n",
    "    if line.startswith('From'):\n",
    "        if line.startswith('From: '):continue\n",
    "        else:\n",
    "            lst=line.split()\n",
    "            sss.append(lst[1])\n",
    "for mail in sss:\n",
    "    counts[mail]=counts.get(mail,0)+1\n",
    "bc=None\n",
    "bw=None\n",
    "for mail,num in counts.items():\n",
    "    if bc==None or num>bc:\n",
    "        bw=mail\n",
    "        bc=num\n",
    "print(bw,bc)\n",
    "    "
   ]
  },
  {
   "cell_type": "code",
   "execution_count": null,
   "metadata": {},
   "outputs": [],
   "source": []
  },
  {
   "cell_type": "code",
   "execution_count": null,
   "metadata": {},
   "outputs": [],
   "source": []
  }
 ],
 "metadata": {
  "kernelspec": {
   "display_name": "Python 3",
   "language": "python",
   "name": "python3"
  },
  "language_info": {
   "codemirror_mode": {
    "name": "ipython",
    "version": 3
   },
   "file_extension": ".py",
   "mimetype": "text/x-python",
   "name": "python",
   "nbconvert_exporter": "python",
   "pygments_lexer": "ipython3",
   "version": "3.8.5"
  }
 },
 "nbformat": 4,
 "nbformat_minor": 4
}
