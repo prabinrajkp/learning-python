{
 "cells": [
  {
   "cell_type": "markdown",
   "metadata": {},
   "source": [
    "# Prabin raj K P\n",
    "## MSc Data Science\n",
    "## Dept. of Future Studies"
   ]
  },
  {
   "cell_type": "markdown",
   "metadata": {},
   "source": [
    "### Practice problems - chapter 3"
   ]
  },
  {
   "cell_type": "markdown",
   "metadata": {},
   "source": [
    "3.1 Implement a program that requests the current temperature in degrees Fahrenheit from the\n",
    "user and prints the temperature in degrees Celsius using the formula\n",
    "\n",
    "celsius =\n",
    "(5/9)\n",
    "(fahrenheit − 32)\n",
    "\n",
    "\n",
    "Your program should execute as follows:\n",
    "\n",
    "\n",
    "Enter the temperature in degrees Fahrenheit: 50\n",
    "\n",
    "The temperature in degrees Celsius is 10.0"
   ]
  },
  {
   "cell_type": "code",
   "execution_count": 4,
   "metadata": {},
   "outputs": [
    {
     "name": "stdout",
     "output_type": "stream",
     "text": [
      "Enter the temperature in degrees Fahrenheit: 50\n",
      "The temperature in degrees Celsius is 10.0\n"
     ]
    }
   ],
   "source": [
    "f=int(input('Enter the temperature in degrees Fahrenheit: '))\n",
    "print('The temperature in degrees Celsius is',(5/9)*(f-32))"
   ]
  },
  {
   "cell_type": "markdown",
   "metadata": {},
   "source": [
    "3.2)Translate these conditional statements into Python if statements:\n",
    "\n",
    "(a) If age is greater 62, print 'You can get your pension benefits'.\n",
    "\n",
    "(b) If name is in list ['Musial', 'Aaraon', 'Williams', 'Gehrig', 'Ruth'],\n",
    "print 'One of the top 5 baseball players, ever!'.\n",
    "\n",
    "(c) If hits is greater than 10 and shield is 0, print 'You are dead...'.\n",
    "\n",
    "(d) If at least one of the Boolean variables north, south, east, and west is True, print\n",
    "'I can escape.'."
   ]
  },
  {
   "cell_type": "code",
   "execution_count": 8,
   "metadata": {},
   "outputs": [],
   "source": [
    "if age>63:\n",
    "    print('You can get your pension benefits')"
   ]
  },
  {
   "cell_type": "code",
   "execution_count": 10,
   "metadata": {},
   "outputs": [
    {
     "name": "stdout",
     "output_type": "stream",
     "text": [
      "One of the top 5 baseball players, ever!\n"
     ]
    }
   ],
   "source": [
    "name='Williams'\n",
    "if name  in ['Musial', 'Aaraon', 'Williams', 'Gehrig', 'Ruth']:\n",
    "    print('One of the top 5 baseball players, ever!')"
   ]
  },
  {
   "cell_type": "code",
   "execution_count": null,
   "metadata": {},
   "outputs": [],
   "source": [
    "if hit>10 and shield=0:\n",
    "    print('You are dead...')"
   ]
  },
  {
   "cell_type": "code",
   "execution_count": null,
   "metadata": {},
   "outputs": [],
   "source": [
    "if north==True or south==True or east== True or west==True:\n",
    "    print('I can escape.')"
   ]
  },
  {
   "cell_type": "markdown",
   "metadata": {},
   "source": [
    "3.3 Translate these into Python if/else statements:\n",
    "\n",
    "(a) If year is divisible by 4, print 'Could be a leap year.'; otherwise print 'Definitely not\n",
    "a leap year.'\n",
    "\n",
    "(b) If list ticket is equal to list lottery, print 'You won!'; else print 'Better luck next\n",
    "time...'"
   ]
  },
  {
   "cell_type": "code",
   "execution_count": 12,
   "metadata": {},
   "outputs": [],
   "source": [
    "if year%4==0:\n",
    "    print('Could be a leap year.')\n",
    "else:\n",
    "    print('Definitely not a leap year.')"
   ]
  },
  {
   "cell_type": "markdown",
   "metadata": {},
   "source": [
    "3.4 Implement a program that starts by asking the user to enter a login id (i.e., a string). The\n",
    "program then checks whether the id entered by the user is in the list ['joe', 'sue',\n",
    "'hani', 'sophie'] of valid users. Depending on the outcome, an appropriate message\n",
    "should be printed. Regardless of the outcome, your function should print 'Done.' before\n",
    "terminating. Here is an example of a successful login:\n",
    "\n",
    "\n",
    "Login: joe\n",
    "\n",
    "You are in!\n",
    "\n",
    "Done.\n",
    "\n",
    "And here is one that is not:\n",
    "\n",
    "\n",
    "Login: john\n",
    "\n",
    "User unknown.\n",
    "\n",
    "Done."
   ]
  },
  {
   "cell_type": "code",
   "execution_count": 13,
   "metadata": {},
   "outputs": [
    {
     "name": "stdout",
     "output_type": "stream",
     "text": [
      "Login: joe\n",
      "you are in\n",
      "Done\n"
     ]
    }
   ],
   "source": [
    "lid=input('Login: ')\n",
    "if lid in ['joe', 'sue', 'hani', 'sophie'] :\n",
    "    print('you are in')\n",
    "else:\n",
    "    print('User unknown')\n",
    "print(\"Done\")"
   ]
  },
  {
   "cell_type": "markdown",
   "metadata": {},
   "source": [
    "3.5 Implement a program that requests from the user a list of words (i.e., strings) and then prints\n",
    "on the screen, one per line, all four-letter strings in the list.\n",
    "\n",
    "\n",
    "Enter word list: [ 'stop' , 'desktop' , 'top' , 'post' ]\n",
    "\n",
    "stop\n",
    "\n",
    "post"
   ]
  },
  {
   "cell_type": "code",
   "execution_count": 19,
   "metadata": {},
   "outputs": [
    {
     "name": "stdout",
     "output_type": "stream",
     "text": [
      "Army\n",
      "puts\n",
      "upon\n",
      "road\n",
      "wall\n",
      "will\n",
      "fall\n",
      "over\n"
     ]
    }
   ],
   "source": [
    "words=['Army','ladder','puts','upon','road','against','angle','wall','will','fall','over']\n",
    "for i in words:\n",
    "    if len(i)==4:\n",
    "        print(i)\n",
    "##for later"
   ]
  },
  {
   "cell_type": "markdown",
   "metadata": {},
   "source": [
    "3.6 Write the for loop that will print these sequences of numbers, one per line, in the interactive\n",
    "shell.\n",
    "\n",
    "(a) Integers from 0 to 9 (i.e., 0, 1, 2, 3, 4, 5, 6, 7, 8, 9)\n",
    "\n",
    "(b) Integers from 0 to 1 (i.e., 0, 1)"
   ]
  },
  {
   "cell_type": "code",
   "execution_count": 23,
   "metadata": {},
   "outputs": [
    {
     "name": "stdout",
     "output_type": "stream",
     "text": [
      "0\n",
      "1\n",
      "2\n",
      "3\n",
      "4\n",
      "5\n",
      "6\n",
      "7\n",
      "8\n",
      "9\n"
     ]
    }
   ],
   "source": [
    "for i in range(0,10):\n",
    "    print(i)"
   ]
  },
  {
   "cell_type": "code",
   "execution_count": 24,
   "metadata": {},
   "outputs": [
    {
     "name": "stdout",
     "output_type": "stream",
     "text": [
      "0\n",
      "1\n"
     ]
    }
   ],
   "source": [
    "for i in range(2):\n",
    "    print(i)"
   ]
  },
  {
   "cell_type": "markdown",
   "metadata": {},
   "source": [
    "Write the for loop that will print the following sequences of numbers, one per line.\n",
    "\n",
    "(a) Integers from 3 up to and including 12\n",
    "\n",
    "(b) Integers from 0 up to but not including 9, but with a step of 2 instead of the default\n",
    "of 1 (i.e., 0, 2, 4, 6, 8)\n",
    "\n",
    "(c) Integers from 0 up to but not including 24 with a step of 3\n",
    "\n",
    "(d) Integers from 3 up to but not including 12 with a step of 5"
   ]
  },
  {
   "cell_type": "code",
   "execution_count": 25,
   "metadata": {},
   "outputs": [
    {
     "name": "stdout",
     "output_type": "stream",
     "text": [
      "3\n",
      "4\n",
      "5\n",
      "6\n",
      "7\n",
      "8\n",
      "9\n",
      "10\n",
      "11\n",
      "12\n"
     ]
    }
   ],
   "source": [
    "for i in range(3,13):\n",
    "    print(i)"
   ]
  },
  {
   "cell_type": "code",
   "execution_count": 27,
   "metadata": {},
   "outputs": [
    {
     "name": "stdout",
     "output_type": "stream",
     "text": [
      "0\n",
      "2\n",
      "4\n",
      "6\n",
      "8\n"
     ]
    }
   ],
   "source": [
    "for i in range(0,9,2):\n",
    "    print(i)"
   ]
  },
  {
   "cell_type": "code",
   "execution_count": 29,
   "metadata": {},
   "outputs": [
    {
     "name": "stdout",
     "output_type": "stream",
     "text": [
      "0\n",
      "3\n",
      "6\n",
      "9\n",
      "12\n",
      "15\n",
      "18\n",
      "21\n"
     ]
    }
   ],
   "source": [
    "for i in range(0,24,3):\n",
    "    print(i)"
   ]
  },
  {
   "cell_type": "code",
   "execution_count": 30,
   "metadata": {},
   "outputs": [
    {
     "name": "stdout",
     "output_type": "stream",
     "text": [
      "3\n",
      "8\n"
     ]
    }
   ],
   "source": [
    "for i in range(3,12,5):\n",
    "    print(i)"
   ]
  },
  {
   "cell_type": "markdown",
   "metadata": {},
   "source": [
    "Define, directly in the interactive shell, function perimeter() that takes, as input, the radius of a circle (a nonnegative number) and returns the perimeter of the circle. A sample\n",
    "usage is:\n",
    "\n",
    " perimeter(1)\n",
    " \n",
    "6.283185307179586\n",
    "\n",
    "perimeter (2)\n",
    "\n",
    "12.566370614359172\n",
    "\n",
    "Remember that you will need the value of π (defined in module math) to compute the\n",
    "perimeter."
   ]
  },
  {
   "cell_type": "code",
   "execution_count": 39,
   "metadata": {},
   "outputs": [
    {
     "name": "stdout",
     "output_type": "stream",
     "text": [
      "6.283185307179586\n",
      "12.566370614359172\n"
     ]
    }
   ],
   "source": [
    "import math\n",
    "def perimeter(r):\n",
    "    print(2*math.pi*r)\n",
    "perimeter(1)\n",
    "perimeter(2)\n"
   ]
  },
  {
   "cell_type": "markdown",
   "metadata": {},
   "source": [
    "3.9 Implement function average() that takes two numbers as input and returns the average of\n",
    "the numbers. You should write your implementation in a module you will name average.py.\n",
    "A sample usage is:\n",
    "\n",
    "average(1,3)\n",
    "\n",
    "2.0\n",
    " \n",
    "average(2, 3.5)\n",
    " \n",
    "2.75"
   ]
  },
  {
   "cell_type": "code",
   "execution_count": 2,
   "metadata": {},
   "outputs": [
    {
     "data": {
      "text/plain": [
       "2.0"
      ]
     },
     "execution_count": 2,
     "metadata": {},
     "output_type": "execute_result"
    }
   ],
   "source": [
    "def average(a,b):\n",
    "    c=(a+b)/2\n",
    "    return(c)\n",
    "average(1,3)"
   ]
  },
  {
   "cell_type": "markdown",
   "metadata": {},
   "source": [
    "3.10 Implement function noVowel() that takes a string s as input and returns True if no character in s is a vowel, and False otherwise (i.e., some character in s is a vowel).\n",
    "\n",
    "noVowel( 'crypt' )\n",
    "\n",
    "True\n",
    "\n",
    "noVowel( 'cwm' )\n",
    "\n",
    "True\n",
    "\n",
    "noVowel( 'car' )\n",
    "\n",
    "False"
   ]
  },
  {
   "cell_type": "code",
   "execution_count": 4,
   "metadata": {},
   "outputs": [
    {
     "data": {
      "text/plain": [
       "False"
      ]
     },
     "execution_count": 4,
     "metadata": {},
     "output_type": "execute_result"
    }
   ],
   "source": [
    "def noVowel(s):\n",
    "    'The noVowel function takes a string as input and returns True as out put if there are no vowels in the string'\n",
    "    for i in s:\n",
    "        #print(i)\n",
    "        for j in 'aeiouAEIOU':\n",
    "            if i==j:\n",
    "                return(False)\n",
    "    return(True)\n",
    "    print(True)\n",
    "        \n",
    "noVowel('bhwhhsah')"
   ]
  },
  {
   "cell_type": "markdown",
   "metadata": {},
   "source": [
    "3.11 Implement function allEven() that takes a list of integers and returns True if all integers\n",
    "in the list are even, and False otherwise.\n",
    "\n",
    " allEven([8, 0, -2, 4, -6, 10])\n",
    " \n",
    "True\n",
    "\n",
    " allEven([8, 0, -1, 4, -6, 10])\n",
    " \n",
    "False"
   ]
  },
  {
   "cell_type": "code",
   "execution_count": 40,
   "metadata": {},
   "outputs": [
    {
     "data": {
      "text/plain": [
       "True"
      ]
     },
     "execution_count": 40,
     "metadata": {},
     "output_type": "execute_result"
    }
   ],
   "source": [
    "def allEven(lst):\n",
    "    for i in lst:\n",
    "        if i%2 != 0:\n",
    "            return(False)\n",
    "    return(True)\n",
    "allEven([8, 0, -2, 4, -6, 10,])\n",
    "    "
   ]
  },
  {
   "cell_type": "markdown",
   "metadata": {},
   "source": [
    "3.12 Write function negatives() that takes a list as input and prints, one per line, the negative\n",
    "values in the list. The function should not return anything.\n",
    "\n",
    " negatives([4, 0, -1, -3, 6, -9])\n",
    " \n",
    "-1\n",
    "\n",
    "-3\n",
    "\n",
    "-9"
   ]
  },
  {
   "cell_type": "code",
   "execution_count": 7,
   "metadata": {},
   "outputs": [
    {
     "name": "stdout",
     "output_type": "stream",
     "text": [
      "-1\n",
      "-3\n",
      "-9\n"
     ]
    }
   ],
   "source": [
    "def negatives(n):\n",
    "    'returns the negative numbers in the inputted list of numbers'\n",
    "    for i in n:\n",
    "        if i<0:\n",
    "            print(i,end=\"\\n\")\n",
    "negatives([4, 0, -1, -3, 6, -9])"
   ]
  },
  {
   "cell_type": "code",
   "execution_count": 3,
   "metadata": {},
   "outputs": [
    {
     "name": "stdout",
     "output_type": "stream",
     "text": [
      "Help on function allEven in module __main__:\n",
      "\n",
      "allEven(lst)\n",
      "    The all even functon returns negative numbers from a given list\n",
      "\n"
     ]
    }
   ],
   "source": [
    "def allEven(lst):\n",
    "    'The all even functon returns negative numbers from a given list'\n",
    "    for i in lst:\n",
    "        if i%2 != 0:\n",
    "            return(False)\n",
    "    return(True)\n",
    "help(allEven)"
   ]
  },
  {
   "cell_type": "markdown",
   "metadata": {},
   "source": [
    "3.13 Add appropriate docstrings to functions average() and negatives() from Practice Prob-\n",
    "lems 3.9 and 3.12. Check your work using the help() documentation tool."
   ]
  },
  {
   "cell_type": "code",
   "execution_count": 8,
   "metadata": {},
   "outputs": [
    {
     "name": "stdout",
     "output_type": "stream",
     "text": [
      "Help on function negatives in module __main__:\n",
      "\n",
      "negatives(n)\n",
      "    returns the negative numbers in the inputted list of numbers\n",
      "\n"
     ]
    }
   ],
   "source": [
    "help(negatives)"
   ]
  },
  {
   "cell_type": "markdown",
   "metadata": {},
   "source": [
    "3.15 Suppose a nonempty list team has been assigned. Write a Python statement or statements\n",
    "that swap the first and last value of the list. So, if the original list is:\n",
    "\n",
    " team = [ 'Ava' ,'Eleanor' , 'Clare' , 'Sarah' ]\n",
    " \n",
    "then the resulting list should be:\n",
    "\n",
    "[ 'Sarah' , 'Eleanor' , 'Clare' , 'Ava' ]"
   ]
  },
  {
   "cell_type": "code",
   "execution_count": 2,
   "metadata": {},
   "outputs": [
    {
     "data": {
      "text/plain": [
       "['Sarah', 'Eleanor', 'Clare', 'Ava']"
      ]
     },
     "execution_count": 2,
     "metadata": {},
     "output_type": "execute_result"
    }
   ],
   "source": [
    "team=[ 'Ava' ,'Eleanor' , 'Clare' , 'Sarah' ]\n",
    "temp=team[0]\n",
    "del team[0]\n",
    "team.insert(0,team[-1])\n",
    "team.pop()\n",
    "team.append(temp)\n",
    "team"
   ]
  },
  {
   "cell_type": "markdown",
   "metadata": {},
   "source": [
    "3.16Implement function swapFL() that takes a list as input and swaps the first and last ele-\n",
    "ments of the list. You may assume the list will be nonempty. The function should not return\n",
    "anything."
   ]
  },
  {
   "cell_type": "code",
   "execution_count": 5,
   "metadata": {},
   "outputs": [
    {
     "name": "stdout",
     "output_type": "stream",
     "text": [
      "['Ava', 'Eleanor', 'Clare', 'Sarah']\n"
     ]
    }
   ],
   "source": [
    "def swapfL(lst):\n",
    "    tmp=lst[0]\n",
    "    del lst[0]\n",
    "    lst.insert(0,team[-1])\n",
    "    lst.pop()\n",
    "    lst.append(tmp)\n",
    "    print(team)\n",
    "swapfL(team)\n"
   ]
  },
  {
   "cell_type": "markdown",
   "metadata": {},
   "source": [
    "### Excercise Problems"
   ]
  },
  {
   "cell_type": "markdown",
   "metadata": {},
   "source": [
    "3.17 Use the eval() function to evaluate these strings as Python expressions:\n",
    "\n",
    "(a)'2 * 3 + 1'\n",
    "\n",
    "(b)'2 * 3 + 1'\n",
    "\n",
    "(c)\"'hello' + ' ' + 'world!'\"\n",
    "\n",
    "(d)\"'ASCII'.count('I')\"\n",
    "\n",
    "(e)'x = 5'\n",
    "\n",
    "Which evaluations result in an error? Explain why."
   ]
  },
  {
   "cell_type": "code",
   "execution_count": 7,
   "metadata": {},
   "outputs": [
    {
     "data": {
      "text/plain": [
       "7"
      ]
     },
     "execution_count": 7,
     "metadata": {},
     "output_type": "execute_result"
    }
   ],
   "source": [
    "eval('2 * 3 + 1')"
   ]
  },
  {
   "cell_type": "code",
   "execution_count": 9,
   "metadata": {},
   "outputs": [
    {
     "ename": "NameError",
     "evalue": "name 'hello' is not defined",
     "output_type": "error",
     "traceback": [
      "\u001b[0;31m---------------------------------------------------------------------------\u001b[0m",
      "\u001b[0;31mNameError\u001b[0m                                 Traceback (most recent call last)",
      "\u001b[0;32m<ipython-input-9-fdba9b461628>\u001b[0m in \u001b[0;36m<module>\u001b[0;34m\u001b[0m\n\u001b[0;32m----> 1\u001b[0;31m \u001b[0meval\u001b[0m\u001b[0;34m(\u001b[0m\u001b[0;34m'hello'\u001b[0m\u001b[0;34m)\u001b[0m\u001b[0;34m\u001b[0m\u001b[0;34m\u001b[0m\u001b[0m\n\u001b[0m",
      "\u001b[0;32m<string>\u001b[0m in \u001b[0;36m<module>\u001b[0;34m\u001b[0m\n",
      "\u001b[0;31mNameError\u001b[0m: name 'hello' is not defined"
     ]
    }
   ],
   "source": [
    "eval('hello')"
   ]
  },
  {
   "cell_type": "code",
   "execution_count": 10,
   "metadata": {},
   "outputs": [
    {
     "data": {
      "text/plain": [
       "'hello world!'"
      ]
     },
     "execution_count": 10,
     "metadata": {},
     "output_type": "execute_result"
    }
   ],
   "source": [
    "eval(\"'hello' + ' ' + 'world!'\")"
   ]
  },
  {
   "cell_type": "code",
   "execution_count": 11,
   "metadata": {},
   "outputs": [
    {
     "data": {
      "text/plain": [
       "2"
      ]
     },
     "execution_count": 11,
     "metadata": {},
     "output_type": "execute_result"
    }
   ],
   "source": [
    "eval(\"'ASCII'.count('I')\")"
   ]
  },
  {
   "cell_type": "code",
   "execution_count": 12,
   "metadata": {},
   "outputs": [
    {
     "ename": "SyntaxError",
     "evalue": "invalid syntax (<string>, line 1)",
     "output_type": "error",
     "traceback": [
      "Traceback \u001b[0;36m(most recent call last)\u001b[0m:\n",
      "  File \u001b[1;32m\"/usr/lib/python3/dist-packages/IPython/core/interactiveshell.py\"\u001b[0m, line \u001b[1;32m3331\u001b[0m, in \u001b[1;35mrun_code\u001b[0m\n    exec(code_obj, self.user_global_ns, self.user_ns)\n",
      "\u001b[0;36m  File \u001b[0;32m\"<ipython-input-12-e9245931a6ec>\"\u001b[0;36m, line \u001b[0;32m1\u001b[0;36m, in \u001b[0;35m<module>\u001b[0;36m\u001b[0m\n\u001b[0;31m    eval('x = 5')\u001b[0m\n",
      "\u001b[0;36m  File \u001b[0;32m\"<string>\"\u001b[0;36m, line \u001b[0;32m1\u001b[0m\n\u001b[0;31m    x = 5\u001b[0m\n\u001b[0m      ^\u001b[0m\n\u001b[0;31mSyntaxError\u001b[0m\u001b[0;31m:\u001b[0m invalid syntax\n"
     ]
    }
   ],
   "source": [
    "eval('x = 5')"
   ]
  },
  {
   "cell_type": "markdown",
   "metadata": {},
   "source": [
    "3.18 Assume a, b, and c have been defined in the interactive shell as shown:\n",
    " a, b, c = 3, 4, 5\n",
    " \n",
    "Within the interactive shell, write if statements that print 'OK' if:\n",
    "\n",
    "(a)a is less than b.\n",
    "\n",
    "(b)c is less than b.\n",
    "\n",
    "(c)The sum of a and b is equal to c.\n",
    "\n",
    "(d)The sum of the squares a and b is equal to c squared.\n",
    "\n",
    "\n",
    "\n"
   ]
  },
  {
   "cell_type": "code",
   "execution_count": 17,
   "metadata": {},
   "outputs": [
    {
     "name": "stdout",
     "output_type": "stream",
     "text": [
      "OK\n",
      "ok\n"
     ]
    }
   ],
   "source": [
    "a,b,c=3,4,5\n",
    "if a<b:\n",
    "    print(\"OK\")\n",
    "if c<b:\n",
    "    print(\"ok\")\n",
    "if  (a+b)==c:\n",
    "    print('OK')\n",
    "if ((a**2)+(b**2))==c**2:\n",
    "    print('ok')"
   ]
  },
  {
   "cell_type": "markdown",
   "metadata": {},
   "source": [
    "3.19 Repeat the previous problem with the additional requirement that 'NOT OK' is printed\n",
    "if the condition is false."
   ]
  },
  {
   "cell_type": "code",
   "execution_count": 18,
   "metadata": {},
   "outputs": [
    {
     "name": "stdout",
     "output_type": "stream",
     "text": [
      "OK\n",
      "NOT OK\n",
      "NOT OK\n",
      "ok\n"
     ]
    }
   ],
   "source": [
    "if a<b:\n",
    "    print(\"OK\")\n",
    "else:\n",
    "    print(\"NOT OK\")\n",
    "if c<b:\n",
    "    print(\"ok\")\n",
    "else:\n",
    "    print(\"NOT OK\")\n",
    "if  (a+b)==c:\n",
    "    print('OK')\n",
    "else:\n",
    "    print(\"NOT OK\")\n",
    "if ((a**2)+(b**2))==c**2:\n",
    "    print('ok')\n",
    "else:\n",
    "    print(\"NOT OK\")"
   ]
  },
  {
   "cell_type": "markdown",
   "metadata": {},
   "source": [
    "3.20 Write a for loop that iterates over a list of strings lst and prints the first three char-\n",
    "acters of every word. If lst is the list ['January', 'February', 'March'] then the\n",
    "following should be printed:\n",
    "\n",
    "Jan\n",
    "\n",
    "Feb\n",
    "\n",
    "Mar"
   ]
  },
  {
   "cell_type": "code",
   "execution_count": 20,
   "metadata": {},
   "outputs": [
    {
     "name": "stdout",
     "output_type": "stream",
     "text": [
      "Jan\n",
      "Feb\n",
      "Mar\n"
     ]
    }
   ],
   "source": [
    "lst= ['January', 'February', 'March'] \n",
    "for i in lst:\n",
    "    print(i[0:3])"
   ]
  },
  {
   "cell_type": "markdown",
   "metadata": {},
   "source": [
    "3.21 Write a for loop that iterates over a list of numbers lst and prints the even numbers\n",
    "in the list. For example, if lst is [2, 3, 4, 5, 6, 7, 8, 9], then the numbers 2, 4, 6,\n",
    "and 8 should be printed."
   ]
  },
  {
   "cell_type": "code",
   "execution_count": 21,
   "metadata": {},
   "outputs": [
    {
     "name": "stdout",
     "output_type": "stream",
     "text": [
      "2\n",
      "4\n",
      "6\n",
      "8\n"
     ]
    }
   ],
   "source": [
    "lst= [2, 3, 4, 5, 6, 7, 8, 9]\n",
    "for i in lst:\n",
    "    if i%2 ==0:\n",
    "        print(i)"
   ]
  },
  {
   "cell_type": "markdown",
   "metadata": {},
   "source": [
    "3.22 Write a for loop that iterates over a list of numbers lst and prints the numbers in the\n",
    "list whose square is divisible by 8. For example, if lst is \n",
    "[2, 3, 4, 5, 6, 7, 8, 9],\n",
    "then the numbers 4 and 8 should be printed."
   ]
  },
  {
   "cell_type": "code",
   "execution_count": 22,
   "metadata": {},
   "outputs": [
    {
     "name": "stdout",
     "output_type": "stream",
     "text": [
      "4\n",
      "8\n"
     ]
    }
   ],
   "source": [
    "for i in lst:\n",
    "    if (i**2)%8==0:\n",
    "        print(i)"
   ]
  },
  {
   "cell_type": "markdown",
   "metadata": {},
   "source": [
    "3.23 Write for loops that use the function range() and print the following sequences:\n",
    "\n",
    "(a)0 1\n",
    "\n",
    "(b)0\n",
    "\n",
    "(c)3 4 5 6\n",
    "\n",
    "(d)1\n",
    "\n",
    "(e)0 3\n",
    "\n",
    "(f)5 9 13 17 21\n",
    "\n"
   ]
  },
  {
   "cell_type": "code",
   "execution_count": 2,
   "metadata": {},
   "outputs": [
    {
     "name": "stdout",
     "output_type": "stream",
     "text": [
      "01"
     ]
    }
   ],
   "source": [
    "for i in range(0,2):\n",
    "    print(i,end=' ')"
   ]
  },
  {
   "cell_type": "code",
   "execution_count": 3,
   "metadata": {},
   "outputs": [
    {
     "name": "stdout",
     "output_type": "stream",
     "text": [
      "0 "
     ]
    }
   ],
   "source": [
    "for i in range(0,1):\n",
    "    print(i,end=' ')"
   ]
  },
  {
   "cell_type": "code",
   "execution_count": 4,
   "metadata": {},
   "outputs": [
    {
     "name": "stdout",
     "output_type": "stream",
     "text": [
      "3 4 5 6 "
     ]
    }
   ],
   "source": [
    "for i in range(3,7):\n",
    "    print(i,end=' ')"
   ]
  },
  {
   "cell_type": "code",
   "execution_count": 5,
   "metadata": {},
   "outputs": [
    {
     "name": "stdout",
     "output_type": "stream",
     "text": [
      "1 "
     ]
    }
   ],
   "source": [
    "for i in range(1,2):\n",
    "    print(i,end=' ')"
   ]
  },
  {
   "cell_type": "code",
   "execution_count": 24,
   "metadata": {},
   "outputs": [
    {
     "name": "stdout",
     "output_type": "stream",
     "text": [
      "0 3 "
     ]
    }
   ],
   "source": [
    "for i in range(0,4,3):\n",
    "    print(i,end=' ')"
   ]
  },
  {
   "cell_type": "code",
   "execution_count": 7,
   "metadata": {},
   "outputs": [
    {
     "name": "stdout",
     "output_type": "stream",
     "text": [
      "5 9 13 17 21 "
     ]
    }
   ],
   "source": [
    "for i in range(5,22,4):\n",
    "    print(i,end=' ')"
   ]
  },
  {
   "cell_type": "markdown",
   "metadata": {},
   "source": [
    "### Problems"
   ]
  },
  {
   "cell_type": "markdown",
   "metadata": {},
   "source": [
    "3.24 Implement a program that requests a list of words from the user and then prints each\n",
    "word in the list that is not 'secret'.\n",
    "\n",
    "Enter list of words: [ 'cia' , 'secret' , 'mi6' , 'isi' , 'secret' ]\n",
    "\n",
    "cia\n",
    "\n",
    "mi6\n",
    "\n",
    "isi"
   ]
  },
  {
   "cell_type": "code",
   "execution_count": 18,
   "metadata": {},
   "outputs": [
    {
     "name": "stdout",
     "output_type": "stream",
     "text": [
      "Enter the word: cia\n",
      "Are you done?[y/n]:\n",
      "Enter the word: secret\n",
      "Are you done?[y/n]:\n",
      "Enter the word: mi6\n",
      "Are you done?[y/n]:\n",
      "Enter the word: isi\n",
      "Are you done?[y/n]:\n",
      "Enter the word: secret\n",
      "Are you done?[y/n]:y\n",
      "cia\n",
      "mi6\n",
      "isi\n"
     ]
    }
   ],
   "source": [
    "lp=\"n\"\n",
    "lst=list()\n",
    "while lp=='n' or lp=='':\n",
    "    w=input('Enter the word: ')\n",
    "    lst.append(w)\n",
    "    lp=input(\"Are you done?[y/n]:\")\n",
    "for i in lst:\n",
    "    if i=='secret':\n",
    "        continue\n",
    "    else:\n",
    "        print(i) \n",
    "    \n",
    "#print(lst)    "
   ]
  },
  {
   "cell_type": "markdown",
   "metadata": {},
   "source": [
    "3.25 Implement a program that requests a list of student names from the user and prints\n",
    "those names that start with letters A through M.\n",
    "\n",
    "Enter list: [ 'Ellie' , 'Steve' , 'Sam' , 'Owen' , 'Gavin' ]\n",
    "\n",
    "Ellie\n",
    "\n",
    "Gavin"
   ]
  },
  {
   "cell_type": "code",
   "execution_count": 59,
   "metadata": {},
   "outputs": [
    {
     "name": "stdout",
     "output_type": "stream",
     "text": [
      "Enter the studens list: [ 'Ellie' , 'Steve' , 'Sam' , 'Owen' , 'Gavin' ]\n",
      "Ellie\n",
      "Gavin\n"
     ]
    }
   ],
   "source": [
    "lst=eval(input('Enter the studens list: '))\n",
    "flag=0\n",
    "for name  in lst:\n",
    "    if name[0] in 'abcdefghijklmABCDEFGHIJKLM':\n",
    "        print(name)\n",
    "    else:continue\n",
    "    "
   ]
  },
  {
   "cell_type": "markdown",
   "metadata": {},
   "source": [
    "3.26 Implement a program that requests a nonempty list from the user and prints on the\n",
    "screen a message giving the first and last element of the list.\n",
    "\n",
    "Enter a list: [3, 5, 7, 9]\n",
    "\n",
    "The first list element is 3\n",
    "\n",
    "The last list element is 9   "
   ]
  },
  {
   "cell_type": "code",
   "execution_count": 61,
   "metadata": {},
   "outputs": [
    {
     "name": "stdout",
     "output_type": "stream",
     "text": [
      "Enter a list: [3, 5, 7, 9]\n",
      "First element of the list is 3\n",
      "The last element of the list is 9\n"
     ]
    }
   ],
   "source": [
    "l=eval(input('Enter a list: '))\n",
    "print('First element of the list is',l[0])\n",
    "print('The last element of the list is',l[-1])"
   ]
  },
  {
   "cell_type": "markdown",
   "metadata": {},
   "source": [
    "3.27 Implement a program that requests a positive integer n from the user and prints the\n",
    "first four multiples of n.\n",
    "\n",
    "Enter n: 5\n",
    "\n",
    "0\n",
    "\n",
    "5\n",
    "\n",
    "10\n",
    "\n",
    "15"
   ]
  },
  {
   "cell_type": "code",
   "execution_count": 64,
   "metadata": {},
   "outputs": [
    {
     "name": "stdout",
     "output_type": "stream",
     "text": [
      "Enter n: 5\n",
      "0\n",
      "5\n",
      "10\n",
      "15\n"
     ]
    }
   ],
   "source": [
    "n=int(input('Enter n: '))\n",
    "for i in range(0,4):\n",
    "    print(i*n)"
   ]
  },
  {
   "cell_type": "markdown",
   "metadata": {},
   "source": [
    "3.28 Implement a program that requests an integer n from the user and prints on the screen\n",
    "the squares of all numbers from 0 up to, but not including, n.\n",
    "\n",
    "Enter n: 3\n",
    "\n",
    "0\n",
    "\n",
    "1\n",
    "\n",
    "4"
   ]
  },
  {
   "cell_type": "code",
   "execution_count": 68,
   "metadata": {},
   "outputs": [
    {
     "name": "stdout",
     "output_type": "stream",
     "text": [
      "Enter n: 3\n",
      "0\n",
      "1\n",
      "4\n"
     ]
    }
   ],
   "source": [
    "n=int(input('Enter n: '))\n",
    "for i in range(0,n):\n",
    "    print(i**2)"
   ]
  },
  {
   "cell_type": "markdown",
   "metadata": {},
   "source": [
    "3.29 Implement a program that requests a positive integer n and prints on the screen all the\n",
    "positive divisors of n. Note: 0 is not a divisor of any integer, and n divides itself.\n",
    "\n",
    "Enter n: 49\n",
    "\n",
    "1\n",
    "\n",
    "7\n",
    "\n",
    "49"
   ]
  },
  {
   "cell_type": "code",
   "execution_count": 73,
   "metadata": {},
   "outputs": [
    {
     "name": "stdout",
     "output_type": "stream",
     "text": [
      "Enter n: 49\n",
      "1\n",
      "7\n",
      "49\n"
     ]
    }
   ],
   "source": [
    "n=int(input('Enter n: '))\n",
    "for i in range(1,n+1):\n",
    "    if n%i==0:\n",
    "        print(i)\n",
    "    \n",
    "    "
   ]
  },
  {
   "cell_type": "markdown",
   "metadata": {},
   "source": [
    "3.30 Implement a program that requests four numbers (integer or floating-point) from the\n",
    "user. Your program should compute the average of the first three numbers and compare the\n",
    "average to the fourth number. If they are equal, your program should print 'Equal' on the\n",
    "screen.\n",
    "\n",
    "Enter first number: 4.5\n",
    "\n",
    "Enter second number: 3\n",
    "\n",
    "\n",
    "Enter third number: 3\n",
    "\n",
    "Enter last numb:3.5\n",
    "\n",
    "Equal"
   ]
  },
  {
   "cell_type": "code",
   "execution_count": 79,
   "metadata": {},
   "outputs": [
    {
     "name": "stdout",
     "output_type": "stream",
     "text": [
      "Enter first number: 4.5\n",
      "Enter second number: 3\n",
      "Enter third number: 3\n",
      "Enter last number: 3.5\n",
      "Equal\n"
     ]
    }
   ],
   "source": [
    "k=0\n",
    "for i in ['first','second','third']:\n",
    "    n=eval(input('Enter {} number: '.format(i)))\n",
    "    k=k+n\n",
    "l=eval(input('Enter last number: '))\n",
    "if k/3==l:\n",
    "    print('Equal')\n",
    "    "
   ]
  },
  {
   "cell_type": "markdown",
   "metadata": {},
   "source": [
    "3.31 Implement a program that requests the user to enter the x and y coordinates (each\n",
    "between −10 and 10) of a dart and computes whether the dart has hit the dartboard, a circle\n",
    "with center (0, 0) and radius 8. If so, string It is in! should be printed on the screen.\n",
    "\n",
    "Enter x: 2.5\n",
    "\n",
    "Enter y: 4\n",
    "\n",
    "It is in!"
   ]
  },
  {
   "cell_type": "code",
   "execution_count": 82,
   "metadata": {},
   "outputs": [
    {
     "name": "stdout",
     "output_type": "stream",
     "text": [
      "Enter x: 2.5\n",
      "Enter y: 4\n",
      "It is in\n"
     ]
    }
   ],
   "source": [
    "import math\n",
    "x=eval(input(\"Enter x: \"))\n",
    "y=eval(input('Enter y: '))\n",
    "d=math.sqrt(x+y)\n",
    "if d<8:\n",
    "    print(\"It is in\")\n",
    "else:\n",
    "    print('oops you missed')"
   ]
  },
  {
   "cell_type": "markdown",
   "metadata": {},
   "source": [
    ".32 Write a program that requests a positive four-digit integer from the user and prints its\n",
    "digits. You are not allowed to use the string data type operations to do this task. Your program should simply read the input as an integer and process it as an integer, using standard\n",
    "arithmetic operations (+, *, -, /, %, etc).\n",
    "\n",
    "Enter n: 1234\n",
    "\n",
    "1\n",
    "\n",
    "2\n",
    "\n",
    "3\n",
    "\n",
    "4"
   ]
  },
  {
   "cell_type": "code",
   "execution_count": 5,
   "metadata": {},
   "outputs": [
    {
     "name": "stdout",
     "output_type": "stream",
     "text": [
      "Enter n: 1234\n",
      "1\n",
      "2\n",
      "3\n",
      "4\n"
     ]
    }
   ],
   "source": [
    "n=int(input('Enter n: '))\n",
    "print(n // 1000)\n",
    "print((n%1000) // 100)\n",
    "print(((n%1000)%100)// 10)\n",
    "print(((n%1000)%100)%10)"
   ]
  },
  {
   "cell_type": "markdown",
   "metadata": {},
   "source": [
    "3.33 Implement function reverse_string() that takes as input a three-letter string and\n",
    "returns the string with its characters reversed.\n",
    "\n",
    " reverse_string( 'abc' )\n",
    " \n",
    "'cba'\n",
    "\n",
    " reverse_string( 'dna' )\n",
    " \n",
    "'and'"
   ]
  },
  {
   "cell_type": "code",
   "execution_count": 11,
   "metadata": {},
   "outputs": [
    {
     "name": "stdout",
     "output_type": "stream",
     "text": [
      "cba\n",
      "dna\n"
     ]
    }
   ],
   "source": [
    "def reverse_string(word):\n",
    "    print(word[::-1])\n",
    "reverse_string('abc')\n",
    "reverse_string('and')"
   ]
  },
  {
   "cell_type": "markdown",
   "metadata": {},
   "source": [
    "3.34 Implement function pay() that takes as input two arguments: an hourly wage and the\n",
    "number of hours an employee worked in the last week. Your function should compute and\n",
    "return the employee’s pay. Any hours worked beyond 40 is overtime and should be paid at\n",
    "1.5 times the regular hourly wage.\n",
    "\n",
    "pay(10, 35)\n",
    "\n",
    "350\n",
    "\n",
    "pay(10, 45)\n",
    "\n",
    "475.0"
   ]
  },
  {
   "cell_type": "code",
   "execution_count": 20,
   "metadata": {},
   "outputs": [
    {
     "name": "stdout",
     "output_type": "stream",
     "text": [
      "350\n",
      "475.0\n"
     ]
    }
   ],
   "source": [
    "def pay(wage,time):\n",
    "    if time <=40:\n",
    "        p=wage*time\n",
    "        print(p)\n",
    "    elif time>40:\n",
    "        p1=wage*40\n",
    "        p2=(time-40)*(1.5*wage)\n",
    "        print(p1+p2)\n",
    "pay(10,35)\n",
    "pay(10,45)"
   ]
  },
  {
   "cell_type": "markdown",
   "metadata": {},
   "source": [
    "3.35 The probability of getting n heads in a row when tossing a fair coin n times is 2^(-n) .\n",
    "Implement function prob() that takes a nonnegative integer n as input and returns the\n",
    "probability of n heads in a row when tossing a fair coin n times.\n",
    "\n",
    "prob(1)\n",
    "\n",
    "0.5\n",
    "\n",
    "prob(2)\n",
    "\n",
    "0.25"
   ]
  },
  {
   "cell_type": "code",
   "execution_count": 23,
   "metadata": {},
   "outputs": [
    {
     "name": "stdout",
     "output_type": "stream",
     "text": [
      "0.5\n",
      "0.25\n"
     ]
    }
   ],
   "source": [
    "import math\n",
    "def prob(n):\n",
    "    print(2**(-n))\n",
    "prob(1)\n",
    "prob(2)"
   ]
  },
  {
   "cell_type": "markdown",
   "metadata": {},
   "source": [
    "3.36 Implement function reverse_int() that takes a three-digit integer as input and returns the integer obtained by reversing its digits. For example, if the input is 123, your\n",
    "function should return 321. You are not allowed to use the string data type operations to\n",
    "do this task. Your program should simply read the input as an integer and process it as an\n",
    "integer using operators such as // and %. You may assume that the input integer does not\n",
    "end with the 0 digit.\n",
    "\n",
    "reverse_int(123)\n",
    "\n",
    "321\n",
    "\n",
    "reverse_int(908)\n",
    "\n",
    "809"
   ]
  },
  {
   "cell_type": "code",
   "execution_count": 33,
   "metadata": {},
   "outputs": [
    {
     "name": "stdout",
     "output_type": "stream",
     "text": [
      "321\n",
      "809\n"
     ]
    }
   ],
   "source": [
    "def reverse_int(n):\n",
    "    print((n%100)%10,end=\"\")\n",
    "    print((n%100)//10,end='')\n",
    "    print(n //100)\n",
    "    \n",
    "reverse_int(123)\n",
    "reverse_int(908)"
   ]
  },
  {
   "cell_type": "code",
   "execution_count": 30,
   "metadata": {},
   "outputs": [
    {
     "data": {
      "text/plain": [
       "2"
      ]
     },
     "execution_count": 30,
     "metadata": {},
     "output_type": "execute_result"
    }
   ],
   "source": [
    "(124%100)//10"
   ]
  },
  {
   "cell_type": "markdown",
   "metadata": {},
   "source": [
    "3.37 Implement function points() that takes as input four numbers x 1 , y 1 , x 2 , y 2 that\n",
    "are the coordinates of two points (x 1 , y 1 ) and (x 2 , y 2 ) in the plane. Your function should\n",
    "compute:\n",
    "\n",
    "• The slope of the line going through the points, unless the line is vertical\n",
    "\n",
    "• The distance between the two points\n",
    "\n",
    "Your function should print the computed slope and distance in the following format. If the\n",
    "line is vertical, the value of the slope should be string 'infinity'. Note: Make sure you\n",
    "convert the slope and distance values to a string before printing them.\n",
    "\n",
    "points(0, 0, 1, 1)\n",
    "\n",
    "The slope is 1.0 and the distance is 1.41421356237\n",
    "\n",
    "points(0, 0, 0, 1)\n",
    "\n",
    "The slope is infinity and the distance is 1.0\n",
    "\n",
    "\n",
    "\n"
   ]
  },
  {
   "cell_type": "code",
   "execution_count": 11,
   "metadata": {},
   "outputs": [
    {
     "name": "stdout",
     "output_type": "stream",
     "text": [
      "The slope is 1.0 and distance is 1.4142135623730951 \n",
      "The slope is infinity and distance is 1.0 \n"
     ]
    }
   ],
   "source": [
    "import math\n",
    "def points(x1,y1,x2,y2):\n",
    "    if not (x2-x1)==0:\n",
    "        slope=((y2-y1)/(x2-x1))\n",
    "        d=math.sqrt(((x2-x1)**2)+((y2-y1)**2))\n",
    "    else:\n",
    "        slope=\"infinity\"\n",
    "        d=math.sqrt(((x2-x1)**2)+((y2-y1)**2))\n",
    "    print('The slope is {} and distance is {} '.format(slope,d))\n",
    "points(0, 0, 1, 1)\n",
    "points(0, 0, 0, 1)"
   ]
  },
  {
   "cell_type": "markdown",
   "metadata": {},
   "source": [
    "3.38 Implement function abbreviation() that takes a day of the week as input and returns\n",
    "its two-letter abbreviation.\n",
    "\n",
    "abbreviation( 'Tuesday' )\n",
    "\n",
    "'Tu'"
   ]
  },
  {
   "cell_type": "code",
   "execution_count": 12,
   "metadata": {},
   "outputs": [
    {
     "name": "stdout",
     "output_type": "stream",
     "text": [
      "Tu\n"
     ]
    }
   ],
   "source": [
    "def abbreviation(day):\n",
    "    print(day[:2])\n",
    "abbreviation('Tuesday')"
   ]
  },
  {
   "cell_type": "markdown",
   "metadata": {},
   "source": [
    "3.39 The computer game function collision() checks whether two circular objects collide; it returns True if they do and False otherwise. Each circular object will be given by\n",
    "its radius and the (x, y) coordinates of its center. Thus the function will take six numbers\n",
    "as input: the coordinates x 1 and y 1 of the center and the radius r 1 of the first circle, and the\n",
    "coordinates x 2 and y 2 of the center and the radius r 2 of the second circle.\n",
    "\n",
    " collision(0, 0, 3, 0, 5, 3)\n",
    "\n",
    "True\n",
    "\n",
    "collision(0, 0, 1.4, 2, 2, 1.4)\n",
    "\n",
    "False"
   ]
  },
  {
   "cell_type": "code",
   "execution_count": 15,
   "metadata": {},
   "outputs": [
    {
     "data": {
      "text/plain": [
       "False"
      ]
     },
     "execution_count": 15,
     "metadata": {},
     "output_type": "execute_result"
    }
   ],
   "source": [
    "def collision(x1,y1,r1,x2,y2,r2):\n",
    "    d = (x1 - x2) * (x1 - x2) + (y1 - y2) * (y1 - y2)\n",
    "    r = (r1 + r2) * (r1 + r2)\n",
    "    if (d == r): \n",
    "        return True\n",
    "    elif (d > r): \n",
    "        return False \n",
    "    else: \n",
    "        return True\n",
    "collision(0, 0, 3, 0, 5, 3)\n",
    "collision(0, 0, 1.4, 2, 2, 1.4)"
   ]
  },
  {
   "cell_type": "markdown",
   "metadata": {},
   "source": [
    "3.40 Implement function partition() that splits a list of soccer players into two groups.\n",
    "More precisely, it takes a list of first names (strings) as input and prints the names of those\n",
    "soccer players whose first name starts with a letter between and including A and M.\n",
    "\n",
    "partition([ 'Eleanor' , 'Evelyn' , 'Sammy' , 'Owen' , 'Gavin' ])\n",
    "\n",
    "Eleanor\n",
    "\n",
    "Evelyn\n",
    "\n",
    "Gavin"
   ]
  },
  {
   "cell_type": "code",
   "execution_count": 18,
   "metadata": {},
   "outputs": [
    {
     "name": "stdout",
     "output_type": "stream",
     "text": [
      "Eleanor\n",
      "Evelyn\n",
      "Gavin\n"
     ]
    }
   ],
   "source": [
    "def partition(lst):\n",
    "    flag=0\n",
    "    for name  in lst:\n",
    "        if name[0] in 'abcdefghijklmABCDEFGHIJKLM':\n",
    "            print(name)\n",
    "        else:continue\n",
    "partition([ 'Eleanor' , 'Evelyn' , 'Sammy' , 'Owen' , 'Gavin' ])   "
   ]
  },
  {
   "cell_type": "markdown",
   "metadata": {},
   "source": [
    "3.41 Write function lastF() that takes as input two strings of the form 'FirstName' and\n",
    "'LastName', respectively, and returns a string of the form 'LastName, F.'. (Only the\n",
    "initial should be output for the first name.)\n",
    "\n",
    "lastF( 'Albert' , 'Camus' )\n",
    "\n",
    "'Camus , A.'"
   ]
  },
  {
   "cell_type": "code",
   "execution_count": 19,
   "metadata": {},
   "outputs": [
    {
     "name": "stdout",
     "output_type": "stream",
     "text": [
      "Camus,A \n"
     ]
    }
   ],
   "source": [
    "def lastF(f,l):\n",
    "    print('{},{} '.format(l,f[0]))\n",
    "lastF( 'Albert' , 'Camus' )"
   ]
  },
  {
   "cell_type": "markdown",
   "metadata": {},
   "source": [
    "3.42 Implement function avg() that takes as input a list that contains lists of numbers. Each\n",
    "number list represents the grades a particular student received for a course. For example,\n",
    "here is an input list for a class of four students:\n",
    "\n",
    "[[95, 92, 86, 87], [66, 54], [89, 72, 100], [33, 0, 0]]\n",
    "\n",
    "The function avg should print, one per line, every student’s average grade. You may assume\n",
    "that every list of grades is nonempty, but you may not assume that every student has the same\n",
    "number of grades.\n",
    "\n",
    " avg([[95, 92, 86, 87], [66, 54], [89, 72, 100], [33, 0, 0]])\n",
    "\n",
    "90.0\n",
    "\n",
    "60.0\n",
    "\n",
    "87.0\n",
    "\n",
    "11.0"
   ]
  },
  {
   "cell_type": "code",
   "execution_count": 23,
   "metadata": {},
   "outputs": [
    {
     "name": "stdout",
     "output_type": "stream",
     "text": [
      "90.0\n",
      "60.0\n",
      "87.0\n",
      "11.0\n"
     ]
    }
   ],
   "source": [
    "def avg(slist):\n",
    "    s=0\n",
    "    for lst in slist:\n",
    "        for j in lst:\n",
    "            s=s+j\n",
    "        avg=s/(len(lst))\n",
    "        print(avg)\n",
    "        s=0\n",
    "avg([[95, 92, 86, 87], [66, 54], [89, 72, 100], [33, 0, 0]])\n",
    "            "
   ]
  },
  {
   "cell_type": "markdown",
   "metadata": {},
   "source": [
    "3.43 The computer game function hit() takes five numbers as input: the x and y coordi-\n",
    "nates of the center and the radius of a circle C, and the x and y coordinates of a point P .\n",
    "The function should return True if point P is inside or on circle C and False otherwise.\n",
    "\n",
    " hit(0, 0, 3, 3, 0)\n",
    " \n",
    "True\n",
    "\n",
    " hit(0, 0, 3, 4, 0)\n",
    " \n",
    "False"
   ]
  },
  {
   "cell_type": "code",
   "execution_count": 24,
   "metadata": {},
   "outputs": [
    {
     "data": {
      "text/plain": [
       "True"
      ]
     },
     "execution_count": 24,
     "metadata": {},
     "output_type": "execute_result"
    }
   ],
   "source": [
    "def hit(x1,y1,r,x2,y2):\n",
    "    d=math.sqrt(((x2-x1)**2)+((y2-y1)**2))\n",
    "    if d<=r:\n",
    "        return True\n",
    "    else:\n",
    "        return False\n",
    "hit(0, 0, 3, 3, 0)"
   ]
  },
  {
   "cell_type": "code",
   "execution_count": 25,
   "metadata": {},
   "outputs": [
    {
     "data": {
      "text/plain": [
       "False"
      ]
     },
     "execution_count": 25,
     "metadata": {},
     "output_type": "execute_result"
    }
   ],
   "source": [
    "hit(0, 0, 3, 4, 0)"
   ]
  },
  {
   "cell_type": "markdown",
   "metadata": {},
   "source": [
    "3.44 Write a function distance() that takes as input a number: the time elapsed (in seconds) between the flash and the sound of thunder. Your function should return the distance\n",
    "to the lightning strike in kilometers. The speed of sound is approximately 340.29 meters per\n",
    "second; there are 1000 meters in one kilometer.\n",
    "\n",
    "distance(3)\n",
    "\n",
    "1.0208700000000002"
   ]
  },
  {
   "cell_type": "code",
   "execution_count": 26,
   "metadata": {},
   "outputs": [
    {
     "data": {
      "text/plain": [
       "1.0208700000000002"
      ]
     },
     "execution_count": 26,
     "metadata": {},
     "output_type": "execute_result"
    }
   ],
   "source": [
    "def distance(time):\n",
    "    return ((340.29*time)/1000)\n",
    "distance(3)"
   ]
  },
  {
   "cell_type": "code",
   "execution_count": null,
   "metadata": {},
   "outputs": [],
   "source": []
  }
 ],
 "metadata": {
  "kernelspec": {
   "display_name": "Python 3",
   "language": "python",
   "name": "python3"
  },
  "language_info": {
   "codemirror_mode": {
    "name": "ipython",
    "version": 3
   },
   "file_extension": ".py",
   "mimetype": "text/x-python",
   "name": "python",
   "nbconvert_exporter": "python",
   "pygments_lexer": "ipython3",
   "version": "3.8.5"
  }
 },
 "nbformat": 4,
 "nbformat_minor": 4
}
