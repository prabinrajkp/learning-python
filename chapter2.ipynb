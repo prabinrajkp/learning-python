{
 "cells": [
  {
   "cell_type": "markdown",
   "metadata": {},
   "source": [
    "# Prabin raj k p\n",
    "## MSc Data Science\n",
    "## Dept. of Future Studies\n"
   ]
  },
  {
   "cell_type": "markdown",
   "metadata": {},
   "source": [
    "### Practice problems - chapter 2"
   ]
  },
  {
   "cell_type": "markdown",
   "metadata": {},
   "source": [
    "2.1)Write Python algebraic expressions corresponding to the following statements:\n",
    "\n",
    "(a) The sum of the first five positive integers\n",
    "\n",
    "(b) The average age of Sara (age 23), Mark (age 19), and Fatima (age 31)\n",
    "\n",
    "(c) The number of times 73 goes into 403\n",
    "\n",
    "(d) The remainder when 403 is divided by 73\n",
    "\n",
    "(e) 2 to the 10th power\n",
    "\n",
    "(f) The absolute value of the difference between Sara’s height (54 inches) and Mark’s\n",
    "height (57 inches)\n",
    "\n",
    "(g) The lowest price among the following prices: $34.99, $29.95, and $31.50"
   ]
  },
  {
   "cell_type": "code",
   "execution_count": 19,
   "metadata": {},
   "outputs": [
    {
     "data": {
      "text/plain": [
       "15"
      ]
     },
     "execution_count": 19,
     "metadata": {},
     "output_type": "execute_result"
    }
   ],
   "source": [
    "1+2+3+4+5"
   ]
  },
  {
   "cell_type": "code",
   "execution_count": 20,
   "metadata": {},
   "outputs": [
    {
     "data": {
      "text/plain": [
       "36.5"
      ]
     },
     "execution_count": 20,
     "metadata": {},
     "output_type": "execute_result"
    }
   ],
   "source": [
    "(23+19+31)/2"
   ]
  },
  {
   "cell_type": "code",
   "execution_count": 21,
   "metadata": {},
   "outputs": [
    {
     "data": {
      "text/plain": [
       "5"
      ]
     },
     "execution_count": 21,
     "metadata": {},
     "output_type": "execute_result"
    }
   ],
   "source": [
    "403//73"
   ]
  },
  {
   "cell_type": "code",
   "execution_count": 22,
   "metadata": {},
   "outputs": [
    {
     "data": {
      "text/plain": [
       "38"
      ]
     },
     "execution_count": 22,
     "metadata": {},
     "output_type": "execute_result"
    }
   ],
   "source": [
    "403%73"
   ]
  },
  {
   "cell_type": "code",
   "execution_count": 23,
   "metadata": {},
   "outputs": [
    {
     "data": {
      "text/plain": [
       "1024"
      ]
     },
     "execution_count": 23,
     "metadata": {},
     "output_type": "execute_result"
    }
   ],
   "source": [
    "2**10"
   ]
  },
  {
   "cell_type": "code",
   "execution_count": 26,
   "metadata": {},
   "outputs": [
    {
     "data": {
      "text/plain": [
       "3"
      ]
     },
     "execution_count": 26,
     "metadata": {},
     "output_type": "execute_result"
    }
   ],
   "source": [
    "abs(54-57)"
   ]
  },
  {
   "cell_type": "code",
   "execution_count": 27,
   "metadata": {},
   "outputs": [
    {
     "data": {
      "text/plain": [
       "29.95"
      ]
     },
     "execution_count": 27,
     "metadata": {},
     "output_type": "execute_result"
    }
   ],
   "source": [
    "min(34.99,29.95,31.50)"
   ]
  },
  {
   "cell_type": "markdown",
   "metadata": {},
   "source": [
    "2.2)Translate the following statements into Python Boolean expressions and evaluate them:\n",
    "\n",
    "(a) The sum of 2 and 2 is less than 4.\n",
    "\n",
    "(b) The value of 7 // 3 is equal to 1 + 1.\n",
    "\n",
    "(c) The sum of 3 squared and 4 squared is equal to 25.\n",
    "\n",
    "(d) The sum of 2, 4, and 6 is greater than 12.\n",
    "\n",
    "(e) 1387 is divisible by 19.\n",
    "\n",
    "(f) 31 is even. (Hint: what does the remainder when you divide by 2 tell you?)\n",
    "\n",
    "(g) The lowest price among $34.99, $29.95, and $31.50 is less than $30.00."
   ]
  },
  {
   "cell_type": "code",
   "execution_count": 28,
   "metadata": {},
   "outputs": [
    {
     "data": {
      "text/plain": [
       "False"
      ]
     },
     "execution_count": 28,
     "metadata": {},
     "output_type": "execute_result"
    }
   ],
   "source": [
    "2+2<4"
   ]
  },
  {
   "cell_type": "code",
   "execution_count": 29,
   "metadata": {},
   "outputs": [
    {
     "data": {
      "text/plain": [
       "True"
      ]
     },
     "execution_count": 29,
     "metadata": {},
     "output_type": "execute_result"
    }
   ],
   "source": [
    "7//3==1+1"
   ]
  },
  {
   "cell_type": "code",
   "execution_count": 31,
   "metadata": {},
   "outputs": [
    {
     "data": {
      "text/plain": [
       "True"
      ]
     },
     "execution_count": 31,
     "metadata": {},
     "output_type": "execute_result"
    }
   ],
   "source": [
    "(3**2)+(4**2)==25"
   ]
  },
  {
   "cell_type": "code",
   "execution_count": 33,
   "metadata": {},
   "outputs": [
    {
     "data": {
      "text/plain": [
       "False"
      ]
     },
     "execution_count": 33,
     "metadata": {},
     "output_type": "execute_result"
    }
   ],
   "source": [
    "2+4+6>12"
   ]
  },
  {
   "cell_type": "code",
   "execution_count": 34,
   "metadata": {},
   "outputs": [
    {
     "data": {
      "text/plain": [
       "False"
      ]
     },
     "execution_count": 34,
     "metadata": {},
     "output_type": "execute_result"
    }
   ],
   "source": [
    "1387/9==0"
   ]
  },
  {
   "cell_type": "code",
   "execution_count": 35,
   "metadata": {},
   "outputs": [
    {
     "data": {
      "text/plain": [
       "False"
      ]
     },
     "execution_count": 35,
     "metadata": {},
     "output_type": "execute_result"
    }
   ],
   "source": [
    "31%2==0"
   ]
  },
  {
   "cell_type": "code",
   "execution_count": 36,
   "metadata": {},
   "outputs": [
    {
     "data": {
      "text/plain": [
       "True"
      ]
     },
     "execution_count": 36,
     "metadata": {},
     "output_type": "execute_result"
    }
   ],
   "source": [
    "min(34.99,29.95)<30.00"
   ]
  },
  {
   "cell_type": "markdown",
   "metadata": {},
   "source": [
    "2.3)Write Python statements that correspond to the actions below and execute them:\n",
    "\n",
    "(a) Assign integer value 3 to variable a.\n",
    "\n",
    "(b) Assign 4 to variable b.\n",
    "\n",
    "(c) Assign to variable c the value of expression a * a + b * b.\n"
   ]
  },
  {
   "cell_type": "code",
   "execution_count": 4,
   "metadata": {},
   "outputs": [
    {
     "data": {
      "text/plain": [
       "25"
      ]
     },
     "execution_count": 4,
     "metadata": {},
     "output_type": "execute_result"
    }
   ],
   "source": [
    "a=3\n",
    "b=4\n",
    "c=(a*a)+(b*b)\n",
    "c"
   ]
  },
  {
   "cell_type": "markdown",
   "metadata": {},
   "source": [
    "2.4) Start by executing the assignment statements:\n",
    "\n",
    "s1 = 'ant'\n",
    "\n",
    "s2 = 'bat'\n",
    "\n",
    "s3 = 'cod'\n",
    "\n",
    "Write Python expressions using s1, s2, and s3 and operators + and * that evaluate to:\n",
    "\n",
    "(a) 'ant bat cod'\n",
    "\n",
    "(b) 'ant ant ant ant ant ant ant ant ant ant '\n",
    "\n",
    "(c) 'ant bat bat cod cod cod'\n",
    "\n",
    "(d) 'ant bat ant bat ant bat ant bat ant bat ant bat ant bat '\n",
    "\n",
    "(e) 'batbatcod batbatcod batbatcod batbatcod batbatcod"
   ]
  },
  {
   "cell_type": "code",
   "execution_count": 1,
   "metadata": {},
   "outputs": [
    {
     "name": "stdout",
     "output_type": "stream",
     "text": [
      "ant bat cod\n",
      "ant ant ant ant ant ant ant ant ant ant \n",
      "ant bat ant bat ant bat ant bat ant bat ant bat ant bat \n",
      "batbatcod batbatcod batbatcod batbatcod batbatcod \n"
     ]
    }
   ],
   "source": [
    "(s1,s2,s3)='ant','bat','cod'\n",
    "print(s1+' '+s2+' '+s3)\n",
    "print((s1+\" \")*10)\n",
    "print(((s1+\" \"+s2)+\" \")*7)\n",
    "print((((s2*2)+s3)+\" \")*5)"
   ]
  },
  {
   "cell_type": "markdown",
   "metadata": {},
   "source": [
    "2.5) Start by executing the assignment:\n",
    "\n",
    "s = '0123456789'\n",
    "\n",
    "Now write expressions using string s and the indexing operator that evaluate to:\n",
    "\n",
    "(a) '0'\n",
    "\n",
    "(b) '1'\n",
    "\n",
    "(c) '6'\n",
    "\n",
    "(d) '8'\n",
    "\n",
    "(e) '9'"
   ]
  },
  {
   "cell_type": "code",
   "execution_count": 20,
   "metadata": {},
   "outputs": [
    {
     "data": {
      "text/plain": [
       "'9'"
      ]
     },
     "execution_count": 20,
     "metadata": {},
     "output_type": "execute_result"
    }
   ],
   "source": [
    "s='0123456789'\n",
    "s[0]\n",
    "s[1]\n",
    "s[6]\n",
    "s[8]\n",
    "s[9]\n"
   ]
  },
  {
   "cell_type": "markdown",
   "metadata": {},
   "source": [
    "2.6) First execute the assignment\n",
    "\n",
    "words = [ 'bat' , 'ball' , 'barn' , 'basket' , 'badminton' ]\n",
    "\n",
    "Now write two Python expressions that evaluate to the first and last, respectively, word in\n",
    "words, in dictionary order"
   ]
  },
  {
   "cell_type": "code",
   "execution_count": 55,
   "metadata": {},
   "outputs": [
    {
     "name": "stdout",
     "output_type": "stream",
     "text": [
      "badminton\n"
     ]
    },
    {
     "data": {
      "text/plain": [
       "'bat'"
      ]
     },
     "execution_count": 55,
     "metadata": {},
     "output_type": "execute_result"
    }
   ],
   "source": [
    "words = [ 'bat' , 'ball' , 'barn' , 'basket' , 'badminton' ]\n",
    "#words.sort()\n",
    "print(min(words))\n",
    "max(words)\n",
    "#words\n",
    "\n"
   ]
  },
  {
   "cell_type": "markdown",
   "metadata": {},
   "source": [
    "2.7) Given the list of student homework grades\n",
    "grades = [9, 7, 7, 10, 3, 9, 6, 6, 2]\n",
    "\n",
    "write:\n",
    "\n",
    "(a) An expression that evaluates to the number of 7 grades\n",
    "\n",
    "(b) A statement that changes the last grade to 4\n",
    "\n",
    "(c) An expression that evaluates to the maximum grade\n",
    "\n",
    "(d) A statement that sorts the list grades\n",
    "\n",
    "(e) An expression that evaluates to the average grade"
   ]
  },
  {
   "cell_type": "code",
   "execution_count": 65,
   "metadata": {},
   "outputs": [
    {
     "name": "stdout",
     "output_type": "stream",
     "text": [
      "2\n",
      "Updated list:  [9, 7, 7, 10, 3, 9, 6, 6, 4]\n",
      "10\n",
      "sorted list:  [3, 4, 6, 6, 7, 7, 9, 9, 10]\n",
      "average = 6.777777777777778\n"
     ]
    }
   ],
   "source": [
    "grades = [9, 7, 7, 10, 3, 9, 6, 6, 2]\n",
    "print(grades.count(7))\n",
    "grades[-1]=4\n",
    "print(\"Updated list: \",grades)\n",
    "print(max(grades))\n",
    "grades.sort()\n",
    "print(\"sorted list: \",grades)\n",
    "print(\"average =\",sum(grades)/len(grades))"
   ]
  },
  {
   "cell_type": "markdown",
   "metadata": {},
   "source": [
    "2.9) What is the type of the object that these expressions evaluate to?\n",
    "\n",
    "(a)False + False\n",
    "\n",
    "(b)2 * 3**2.0\n",
    "\n",
    "(c)4 // 2 + 4 % 2\n",
    "\n",
    "(d)2 + 3 == 4 or 5 >= 5\n",
    "\n",
    "\n",
    "\n"
   ]
  },
  {
   "cell_type": "code",
   "execution_count": 92,
   "metadata": {},
   "outputs": [
    {
     "data": {
      "text/plain": [
       "int"
      ]
     },
     "execution_count": 92,
     "metadata": {},
     "output_type": "execute_result"
    }
   ],
   "source": [
    "type(False+False)\n"
   ]
  },
  {
   "cell_type": "code",
   "execution_count": 91,
   "metadata": {},
   "outputs": [
    {
     "data": {
      "text/plain": [
       "float"
      ]
     },
     "execution_count": 91,
     "metadata": {},
     "output_type": "execute_result"
    }
   ],
   "source": [
    "type(2 * 3**2.0)\n"
   ]
  },
  {
   "cell_type": "code",
   "execution_count": 90,
   "metadata": {},
   "outputs": [
    {
     "data": {
      "text/plain": [
       "int"
      ]
     },
     "execution_count": 90,
     "metadata": {},
     "output_type": "execute_result"
    }
   ],
   "source": [
    "type(4 // 2 + 4 % 2)\n"
   ]
  },
  {
   "cell_type": "code",
   "execution_count": 89,
   "metadata": {},
   "outputs": [
    {
     "data": {
      "text/plain": [
       "bool"
      ]
     },
     "execution_count": 89,
     "metadata": {},
     "output_type": "execute_result"
    }
   ],
   "source": [
    "type(2 + 3 == 4 or 5 >= 5)\n"
   ]
  },
  {
   "cell_type": "markdown",
   "metadata": {},
   "source": [
    "2.10) Write Python expressions corresponding to the following:\n",
    "\n",
    "(a) The length of the hypotenuse in a right triangle whose other two sides have lengths a\n",
    "and b\n",
    "\n",
    "(b) The value of the expression that evaluates whether the length of the above hypotenuse\n",
    "is 5\n",
    "\n",
    "(c) The area of a disk of radius a\n",
    "\n",
    "(d) The value of the Boolean expression that checks whether a point with coordinates x\n",
    "and y is inside a circle with center (a, b) and radius r"
   ]
  },
  {
   "cell_type": "code",
   "execution_count": 88,
   "metadata": {},
   "outputs": [
    {
     "name": "stdout",
     "output_type": "stream",
     "text": [
      "enter side a of the trianle: 3\n",
      "enter side b of the trianle: 4\n",
      "hypotenuse= 5.0\n"
     ]
    },
    {
     "data": {
      "text/plain": [
       "True"
      ]
     },
     "execution_count": 88,
     "metadata": {},
     "output_type": "execute_result"
    }
   ],
   "source": [
    "import math\n",
    "a=float(input(\"enter side a of the trianle: \"))\n",
    "b=float(input(\"enter side b of the trianle: \"))\n",
    "h=math.sqrt(a**2+b**2)\n",
    "print(\"hypotenuse=\",h,)\n",
    "h==5\n",
    "\n",
    "\n",
    "\n"
   ]
  },
  {
   "cell_type": "code",
   "execution_count": 99,
   "metadata": {},
   "outputs": [
    {
     "name": "stdout",
     "output_type": "stream",
     "text": [
      "enter the radius of the circle15\n",
      "area= 706.8583470577034\n"
     ]
    }
   ],
   "source": [
    "a=float(input(\"enter the radius of the circle\"))\n",
    "area=math.pi*(a**2)\n",
    "print(\"area=\",area)\n"
   ]
  },
  {
   "cell_type": "code",
   "execution_count": 104,
   "metadata": {},
   "outputs": [
    {
     "name": "stdout",
     "output_type": "stream",
     "text": [
      "Enter centre coordinates of the circle\n",
      "0\n",
      "0\n",
      "radiusof the circle: 2\n",
      "Enter x,y coordinates of the point\n",
      "2\n",
      "3\n"
     ]
    },
    {
     "data": {
      "text/plain": [
       "False"
      ]
     },
     "execution_count": 104,
     "metadata": {},
     "output_type": "execute_result"
    }
   ],
   "source": [
    "print(\"Enter centre coordinates of the circle\")\n",
    "x=int(input())\n",
    "y=int(input())\n",
    "r=int(input(\"radiusof the circle: \"))\n",
    "print(\"Enter x,y coordinates of the point\")\n",
    "a=int(input())\n",
    "b=int(input())\n",
    "(x-a)**2+(y-b)**2<r**2\n"
   ]
  },
  {
   "cell_type": "markdown",
   "metadata": {},
   "source": [
    "### Exercise Problems"
   ]
  },
  {
   "cell_type": "markdown",
   "metadata": {},
   "source": [
    "2.11 Write Python expressions corresponding to these statements:\n",
    "\n",
    "(a) The sum of negative integers −7 through −1\n",
    "\n",
    "(b) The average age of a group of kids at a summer camp given than 17 are 9 years old,\n",
    "24 are 10 years old, 21 are 11 years old, and 27 are 12 years old\n",
    "\n",
    "(c) 2 to the power −20\n",
    "\n",
    "(d) The number of times 61 goes into 4356\n",
    "\n",
    "(e) The remainder when 4365 is divided by 61"
   ]
  },
  {
   "cell_type": "code",
   "execution_count": 105,
   "metadata": {},
   "outputs": [
    {
     "data": {
      "text/plain": [
       "-8"
      ]
     },
     "execution_count": 105,
     "metadata": {},
     "output_type": "execute_result"
    }
   ],
   "source": [
    "-7+-1"
   ]
  },
  {
   "cell_type": "code",
   "execution_count": 108,
   "metadata": {},
   "outputs": [
    {
     "data": {
      "text/plain": [
       "89"
      ]
     },
     "execution_count": 108,
     "metadata": {},
     "output_type": "execute_result"
    }
   ],
   "source": [
    "# total number of students\n",
    "17+24+21+27"
   ]
  },
  {
   "cell_type": "code",
   "execution_count": 109,
   "metadata": {},
   "outputs": [
    {
     "data": {
      "text/plain": [
       "10.651685393258427"
      ]
     },
     "execution_count": 109,
     "metadata": {},
     "output_type": "execute_result"
    }
   ],
   "source": [
    "#average age\n",
    "(17*9+24*10+21*11+27*12)/89"
   ]
  },
  {
   "cell_type": "code",
   "execution_count": 111,
   "metadata": {},
   "outputs": [
    {
     "data": {
      "text/plain": [
       "9.5367431640625e-07"
      ]
     },
     "execution_count": 111,
     "metadata": {},
     "output_type": "execute_result"
    }
   ],
   "source": [
    "2**(-20)"
   ]
  },
  {
   "cell_type": "code",
   "execution_count": 112,
   "metadata": {},
   "outputs": [
    {
     "data": {
      "text/plain": [
       "71"
      ]
     },
     "execution_count": 112,
     "metadata": {},
     "output_type": "execute_result"
    }
   ],
   "source": [
    "4365//61"
   ]
  },
  {
   "cell_type": "code",
   "execution_count": 113,
   "metadata": {},
   "outputs": [
    {
     "data": {
      "text/plain": [
       "34"
      ]
     },
     "execution_count": 113,
     "metadata": {},
     "output_type": "execute_result"
    }
   ],
   "source": [
    "4365%61"
   ]
  },
  {
   "cell_type": "markdown",
   "metadata": {},
   "source": [
    "2.12 Start by evaluating, in the interactive shell, the assignment:\n",
    "\n",
    "s1 = '-'\n",
    "\n",
    "s2 = '+'\n",
    "\n",
    "Now write string expressions involving s1 and s2 and string operators + and * that evaluate\n",
    "to:\n",
    "\n",
    "(a) '-+'\n",
    "\n",
    "(b) '-+-'\n",
    "\n",
    "(c) '+--'\n",
    "\n",
    "\n",
    "(d) '+--+--'\n",
    "\n",
    "(e) '+--+--+--+--+--+--+--+--+--+--+'\n",
    "\n",
    "(f) '+-+++--+-+++--+-+++--+-+++--+-+++--'\n",
    "\n",
    "Try to make your string expressions as succinct as you can."
   ]
  },
  {
   "cell_type": "code",
   "execution_count": 2,
   "metadata": {},
   "outputs": [],
   "source": [
    "s1='-'\n",
    "s2='+'"
   ]
  },
  {
   "cell_type": "code",
   "execution_count": 4,
   "metadata": {},
   "outputs": [
    {
     "data": {
      "text/plain": [
       "'-+'"
      ]
     },
     "execution_count": 4,
     "metadata": {},
     "output_type": "execute_result"
    }
   ],
   "source": [
    "s1+s2"
   ]
  },
  {
   "cell_type": "code",
   "execution_count": 5,
   "metadata": {},
   "outputs": [
    {
     "data": {
      "text/plain": [
       "'-+-'"
      ]
     },
     "execution_count": 5,
     "metadata": {},
     "output_type": "execute_result"
    }
   ],
   "source": [
    "s1+s2+s1"
   ]
  },
  {
   "cell_type": "code",
   "execution_count": 7,
   "metadata": {},
   "outputs": [
    {
     "data": {
      "text/plain": [
       "'+--'"
      ]
     },
     "execution_count": 7,
     "metadata": {},
     "output_type": "execute_result"
    }
   ],
   "source": [
    "s2+(s1)*2"
   ]
  },
  {
   "cell_type": "code",
   "execution_count": 12,
   "metadata": {},
   "outputs": [
    {
     "data": {
      "text/plain": [
       "'+--+--+'"
      ]
     },
     "execution_count": 12,
     "metadata": {},
     "output_type": "execute_result"
    }
   ],
   "source": [
    "(s2+(s1)*2)*2+"
   ]
  },
  {
   "cell_type": "code",
   "execution_count": 13,
   "metadata": {},
   "outputs": [
    {
     "data": {
      "text/plain": [
       "'+--+--+--+--+--+--+--+--+--+--+'"
      ]
     },
     "execution_count": 13,
     "metadata": {},
     "output_type": "execute_result"
    }
   ],
   "source": [
    "(s2+(s1)*2)*10+s2"
   ]
  },
  {
   "cell_type": "code",
   "execution_count": 10,
   "metadata": {},
   "outputs": [
    {
     "data": {
      "text/plain": [
       "'+-+++--+-+++--+-+++--+-+++--+-+++--'"
      ]
     },
     "execution_count": 10,
     "metadata": {},
     "output_type": "execute_result"
    }
   ],
   "source": [
    "(s2+s1+(s2)*3+(s1*2))*5"
   ]
  },
  {
   "cell_type": "markdown",
   "metadata": {},
   "source": [
    "Start by running, in the shell, the following assignment statement:\n",
    "\n",
    " s = 'abcdefghijklmnopqrstuvwxyz'\n",
    " \n",
    "Now write expressions using string s and the indexing operator that evaluate to 'a', 'c',\n",
    "'z', 'y', and 'q'"
   ]
  },
  {
   "cell_type": "code",
   "execution_count": 17,
   "metadata": {},
   "outputs": [],
   "source": [
    "s='abcdefghijklmnopqrstuvwxyz'"
   ]
  },
  {
   "cell_type": "code",
   "execution_count": 18,
   "metadata": {},
   "outputs": [
    {
     "data": {
      "text/plain": [
       "'a'"
      ]
     },
     "execution_count": 18,
     "metadata": {},
     "output_type": "execute_result"
    }
   ],
   "source": [
    "s[0]"
   ]
  },
  {
   "cell_type": "code",
   "execution_count": 19,
   "metadata": {},
   "outputs": [
    {
     "data": {
      "text/plain": [
       "'c'"
      ]
     },
     "execution_count": 19,
     "metadata": {},
     "output_type": "execute_result"
    }
   ],
   "source": [
    "s[-24]"
   ]
  },
  {
   "cell_type": "code",
   "execution_count": 20,
   "metadata": {},
   "outputs": [
    {
     "data": {
      "text/plain": [
       "'z'"
      ]
     },
     "execution_count": 20,
     "metadata": {},
     "output_type": "execute_result"
    }
   ],
   "source": [
    "s[25]"
   ]
  },
  {
   "cell_type": "code",
   "execution_count": 21,
   "metadata": {},
   "outputs": [
    {
     "data": {
      "text/plain": [
       "'y'"
      ]
     },
     "execution_count": 21,
     "metadata": {},
     "output_type": "execute_result"
    }
   ],
   "source": [
    "s[-2]"
   ]
  },
  {
   "cell_type": "code",
   "execution_count": 22,
   "metadata": {},
   "outputs": [
    {
     "data": {
      "text/plain": [
       "'q'"
      ]
     },
     "execution_count": 22,
     "metadata": {},
     "output_type": "execute_result"
    }
   ],
   "source": [
    "s[-10]"
   ]
  },
  {
   "cell_type": "markdown",
   "metadata": {},
   "source": [
    "2.14 Start by executing\n",
    "\n",
    "s = 'goodbye'\n",
    "\n",
    "Then write a Boolean expression that checks whether:\n",
    "\n",
    "(a) The first character of string s is 'g'\n",
    "\n",
    "(b) The seventh character of s is 'g'\n",
    "\n",
    "(c) The first two characters of s are 'g' and 'a'\n",
    "\n",
    "(d) The next to last character of s is 'x'\n",
    "\n",
    "(e) The middle character of s is 'd'\n",
    "\n",
    "(f) The first and last characters of string s are equal\n",
    "\n",
    "(g) The last four characters of string s match the string 'tion'\n",
    "\n",
    "Note: These seven statements should evaluate to True, False, False, False, True, False,\n",
    "and False, respective"
   ]
  },
  {
   "cell_type": "code",
   "execution_count": 24,
   "metadata": {},
   "outputs": [],
   "source": [
    "s = 'goodbye'"
   ]
  },
  {
   "cell_type": "code",
   "execution_count": 25,
   "metadata": {},
   "outputs": [
    {
     "data": {
      "text/plain": [
       "True"
      ]
     },
     "execution_count": 25,
     "metadata": {},
     "output_type": "execute_result"
    }
   ],
   "source": [
    "s[0]=='g'"
   ]
  },
  {
   "cell_type": "code",
   "execution_count": 26,
   "metadata": {},
   "outputs": [
    {
     "data": {
      "text/plain": [
       "False"
      ]
     },
     "execution_count": 26,
     "metadata": {},
     "output_type": "execute_result"
    }
   ],
   "source": [
    "s[6]=='g'"
   ]
  },
  {
   "cell_type": "code",
   "execution_count": 31,
   "metadata": {},
   "outputs": [
    {
     "data": {
      "text/plain": [
       "False"
      ]
     },
     "execution_count": 31,
     "metadata": {},
     "output_type": "execute_result"
    }
   ],
   "source": [
    "s[0]=='g' and s[1]=='a'"
   ]
  },
  {
   "cell_type": "code",
   "execution_count": 32,
   "metadata": {},
   "outputs": [
    {
     "data": {
      "text/plain": [
       "False"
      ]
     },
     "execution_count": 32,
     "metadata": {},
     "output_type": "execute_result"
    }
   ],
   "source": [
    "s[-2]=='x'"
   ]
  },
  {
   "cell_type": "code",
   "execution_count": 37,
   "metadata": {},
   "outputs": [
    {
     "data": {
      "text/plain": [
       "7"
      ]
     },
     "execution_count": 37,
     "metadata": {},
     "output_type": "execute_result"
    }
   ],
   "source": [
    "len(s)"
   ]
  },
  {
   "cell_type": "code",
   "execution_count": 39,
   "metadata": {},
   "outputs": [
    {
     "data": {
      "text/plain": [
       "True"
      ]
     },
     "execution_count": 39,
     "metadata": {},
     "output_type": "execute_result"
    }
   ],
   "source": [
    "s[3]=='d'"
   ]
  },
  {
   "cell_type": "code",
   "execution_count": 43,
   "metadata": {},
   "outputs": [
    {
     "data": {
      "text/plain": [
       "False"
      ]
     },
     "execution_count": 43,
     "metadata": {},
     "output_type": "execute_result"
    }
   ],
   "source": [
    "s[0]==s[-1]"
   ]
  },
  {
   "cell_type": "code",
   "execution_count": 46,
   "metadata": {},
   "outputs": [
    {
     "data": {
      "text/plain": [
       "False"
      ]
     },
     "execution_count": 46,
     "metadata": {},
     "output_type": "execute_result"
    }
   ],
   "source": [
    "s[-4:7]=='tion'"
   ]
  },
  {
   "cell_type": "markdown",
   "metadata": {},
   "source": [
    "2.15 Write Python expressions corresponding to these statements:\n",
    "\n",
    "(a) The number of characters in the word \"anachronistically\" is 1 more than the number\n",
    "of characters in the word \"counterintuitive.\"\n",
    "\n",
    "(b) The word \"misinterpretation\" appears earlier in the dictionary than the word \"misrep-\n",
    "resentation.\"\n",
    "\n",
    "(c) The letter \"e\" does not appear in the word \"floccinaucinihilipilification.\"\n",
    "\n",
    "(d) The number of characters in the word \"counterrevolution\" is equal to the sum of the\n",
    "number of characters in words \"counter\" and \"resolution.\""
   ]
  },
  {
   "cell_type": "code",
   "execution_count": 50,
   "metadata": {},
   "outputs": [
    {
     "data": {
      "text/plain": [
       "1"
      ]
     },
     "execution_count": 50,
     "metadata": {},
     "output_type": "execute_result"
    }
   ],
   "source": [
    "len(\"anachronistically\")-len(\"counterintuitive\")"
   ]
  },
  {
   "cell_type": "code",
   "execution_count": 1,
   "metadata": {},
   "outputs": [
    {
     "data": {
      "text/plain": [
       "True"
      ]
     },
     "execution_count": 1,
     "metadata": {},
     "output_type": "execute_result"
    }
   ],
   "source": [
    "\"misinterpretation\"<\"misrepresentation\""
   ]
  },
  {
   "cell_type": "code",
   "execution_count": 4,
   "metadata": {},
   "outputs": [
    {
     "data": {
      "text/plain": [
       "False"
      ]
     },
     "execution_count": 4,
     "metadata": {},
     "output_type": "execute_result"
    }
   ],
   "source": [
    "'e' in \"floccinaucinihilipilification.\""
   ]
  },
  {
   "cell_type": "code",
   "execution_count": 5,
   "metadata": {},
   "outputs": [
    {
     "data": {
      "text/plain": [
       "True"
      ]
     },
     "execution_count": 5,
     "metadata": {},
     "output_type": "execute_result"
    }
   ],
   "source": [
    "len(\"counterrevolution\")==len(\"counter\")+len(\"resolution\")"
   ]
  },
  {
   "cell_type": "markdown",
   "metadata": {},
   "source": [
    "2.16 Write the corresponding Python assignment statements:\n",
    "\n",
    "(a) Assign 6 to variable a and 7 to variable b.\n",
    "\n",
    "(b) Assign to variable c the average of variables a and b.\n",
    "\n",
    "(c) Assign to variable inventory the list containing strings 'paper', 'staples', and\n",
    "'pencils'.\n",
    "\n",
    "(d) Assign to variables first, middle and last the strings 'John', 'Fitzgerald',\n",
    "and 'Kennedy'.\n",
    "\n",
    "(e) Assign to variable fullname the concatenation of string variables first, middle,\n",
    "and last. Make sure you incorporate blank spaces appropriately."
   ]
  },
  {
   "cell_type": "code",
   "execution_count": 8,
   "metadata": {},
   "outputs": [],
   "source": [
    "(a,b)=[6,7]"
   ]
  },
  {
   "cell_type": "code",
   "execution_count": 10,
   "metadata": {},
   "outputs": [
    {
     "data": {
      "text/plain": [
       "6.5"
      ]
     },
     "execution_count": 10,
     "metadata": {},
     "output_type": "execute_result"
    }
   ],
   "source": [
    "c=(a+b)/2\n",
    "c"
   ]
  },
  {
   "cell_type": "code",
   "execution_count": 12,
   "metadata": {},
   "outputs": [
    {
     "data": {
      "text/plain": [
       "['paper', 'staples', 'pencils']"
      ]
     },
     "execution_count": 12,
     "metadata": {},
     "output_type": "execute_result"
    }
   ],
   "source": [
    "inventory=[ 'paper', 'staples', 'pencils']\n",
    "inventory"
   ]
  },
  {
   "cell_type": "code",
   "execution_count": 15,
   "metadata": {},
   "outputs": [],
   "source": [
    "(first,middle,last)=['John', 'Fitzgerald','Kennedy']"
   ]
  },
  {
   "cell_type": "code",
   "execution_count": 17,
   "metadata": {},
   "outputs": [
    {
     "data": {
      "text/plain": [
       "'John Fitzgerald Kennedy'"
      ]
     },
     "execution_count": 17,
     "metadata": {},
     "output_type": "execute_result"
    }
   ],
   "source": [
    "fullname=first+' '+middle+\" \"+last\n",
    "fullname"
   ]
  },
  {
   "cell_type": "markdown",
   "metadata": {},
   "source": [
    "2.17 Using variables defined in Exercise 2.16, write Boolean expressions corresponding to\n",
    "the following logical statements and evaluate the expressions:\n",
    "\n",
    "(a) The sum of 17 and −9 is less than 10.\n",
    "\n",
    "(b) The length of list inventory is more than five times the length of string fullname.\n",
    "\n",
    "(c) c is no more than 24.\n",
    "\n",
    "(d) 6.75 is between the values of integers a and b.\n",
    "\n",
    "(e) The length of string middle is larger than the length of string first and smaller than\n",
    "the length string last.\n",
    "\n",
    "(f) Either the list inventory is empty or it has more than 10 objects in it."
   ]
  },
  {
   "cell_type": "code",
   "execution_count": 19,
   "metadata": {},
   "outputs": [
    {
     "data": {
      "text/plain": [
       "True"
      ]
     },
     "execution_count": 19,
     "metadata": {},
     "output_type": "execute_result"
    }
   ],
   "source": [
    "17-9<10"
   ]
  },
  {
   "cell_type": "code",
   "execution_count": 21,
   "metadata": {},
   "outputs": [
    {
     "data": {
      "text/plain": [
       "False"
      ]
     },
     "execution_count": 21,
     "metadata": {},
     "output_type": "execute_result"
    }
   ],
   "source": [
    "len(inventory)>5*len(fullname)"
   ]
  },
  {
   "cell_type": "code",
   "execution_count": 22,
   "metadata": {},
   "outputs": [
    {
     "data": {
      "text/plain": [
       "True"
      ]
     },
     "execution_count": 22,
     "metadata": {},
     "output_type": "execute_result"
    }
   ],
   "source": [
    "c<24"
   ]
  },
  {
   "cell_type": "code",
   "execution_count": 23,
   "metadata": {},
   "outputs": [
    {
     "data": {
      "text/plain": [
       "True"
      ]
     },
     "execution_count": 23,
     "metadata": {},
     "output_type": "execute_result"
    }
   ],
   "source": [
    "a<6.75<b"
   ]
  },
  {
   "cell_type": "code",
   "execution_count": 24,
   "metadata": {},
   "outputs": [
    {
     "data": {
      "text/plain": [
       "True"
      ]
     },
     "execution_count": 24,
     "metadata": {},
     "output_type": "execute_result"
    }
   ],
   "source": [
    "first>middle and middle<last"
   ]
  },
  {
   "cell_type": "code",
   "execution_count": 25,
   "metadata": {},
   "outputs": [
    {
     "data": {
      "text/plain": [
       "False"
      ]
     },
     "execution_count": 25,
     "metadata": {},
     "output_type": "execute_result"
    }
   ],
   "source": [
    "len(inventory)==0 or len(inventory)>10"
   ]
  },
  {
   "cell_type": "markdown",
   "metadata": {},
   "source": [
    "2.18 Write Python statements corresponding to the following:\n",
    "\n",
    "(a) Assign to variable flowers a list containing strings 'rose', 'bougainvillea',\n",
    "'yucca', 'marigold', 'daylilly', and 'lilly of the valley'.\n",
    "\n",
    "(b) Write a Boolean expression that evaluates to True if string 'potato' is in list flowers,\n",
    "and evaluate the expression.\n",
    "\n",
    "(c) Assign to list thorny the sublist consisting of the first three objects in list flowers.\n",
    "\n",
    "(d) Assign to list poisonous the sublist consisting of just the last object of list flowers.\n",
    "\n",
    "(e) Assign to list dangerous the concatenation of lists thorny and poisonous."
   ]
  },
  {
   "cell_type": "code",
   "execution_count": 13,
   "metadata": {},
   "outputs": [
    {
     "name": "stdout",
     "output_type": "stream",
     "text": [
      "False\n"
     ]
    },
    {
     "data": {
      "text/plain": [
       "['lilly of the valley', 'rose', 'bougainvillea', 'yucca']"
      ]
     },
     "execution_count": 13,
     "metadata": {},
     "output_type": "execute_result"
    }
   ],
   "source": [
    "flowers=['rose', 'bougainvillea', 'yucca', 'marigold', 'daylilly','lilly of the valley']\n",
    "condition=False\n",
    "if \"potato\" in flowers:\n",
    "    condition=True\n",
    "print(condition)\n",
    "    \n",
    "throny=list()\n",
    "for i in [0,1,2]:\n",
    "    throny.append(flowers[i])\n",
    "poisonous=[flowers[-1]]\n",
    "#poisonous\n",
    "dangerous=poisonous+throny\n",
    "dangerous\n",
    "\n"
   ]
  },
  {
   "cell_type": "markdown",
   "metadata": {},
   "source": [
    "2.19 Start by assigning to variable answers a list containing an arbitrary sequence of strings\n",
    "\n",
    "'Y' and 'N'. For example:\n",
    "\n",
    "answers = [ 'Y' , 'N' , 'N' , 'Y' , 'N' , 'Y' , 'Y' , 'Y' , 'N' , 'N' , 'N' ]\n",
    "\n",
    "Write Python statements corresponding to the following:\n",
    "\n",
    "(a) Assign to variable numYes the number of occurrences of 'Y' in list answers.\n",
    "\n",
    "(b) Assign to variable numNo the number of occurrences of 'N' in list answers.\n",
    "\n",
    "(c) Assign to variable percentYes the percentage of strings in answers that are 'Y'.\n",
    "\n",
    "(d) Sort the list answers.\n",
    "\n",
    "(e) Assign to variable f the index of the first occurrence of 'Y' in sorted list answers."
   ]
  },
  {
   "cell_type": "code",
   "execution_count": 28,
   "metadata": {},
   "outputs": [
    {
     "name": "stdout",
     "output_type": "stream",
     "text": [
      "['N', 'N', 'N', 'N', 'N', 'N', 'Y', 'Y', 'Y', 'Y', 'Y']\n"
     ]
    },
    {
     "data": {
      "text/plain": [
       "6"
      ]
     },
     "execution_count": 28,
     "metadata": {},
     "output_type": "execute_result"
    }
   ],
   "source": [
    "answers = [ 'Y' , 'N' , 'N' , 'Y' , 'N' , 'Y' , 'Y' , 'Y' , 'N' , 'N' , 'N' ]\n",
    "numYes=answers.count('Y')\n",
    "numNo=answers.count('N')\n",
    "percentYes=(numYes/(numYes+numNo))*100\n",
    "answers.sort()\n",
    "f=0\n",
    "for i in answers:\n",
    "    if i=='Y':\n",
    "        break\n",
    "    f=f+1"
   ]
  },
  {
   "cell_type": "markdown",
   "metadata": {},
   "source": [
    "2.20 Write an expression involving a three-letter string s that evaluates to a string whose\n",
    "characters are the characters of s in reverse order. If s is 'top', the expression should\n",
    "evaluate to 'pot'."
   ]
  },
  {
   "cell_type": "code",
   "execution_count": 5,
   "metadata": {},
   "outputs": [
    {
     "name": "stdout",
     "output_type": "stream",
     "text": [
      "pot\n"
     ]
    }
   ],
   "source": [
    "s='top'\n",
    "r=s[::-1]\n",
    "print(r)"
   ]
  },
  {
   "cell_type": "markdown",
   "metadata": {},
   "source": [
    "2.21 Write an expression involving strings s and t containing the last name and the first\n",
    "name, respectively, of a person that evaluates to the person’s initials. If the two strings con-\n",
    "tained the first and last name of this book’s author, the expression would evaluate to 'LP'."
   ]
  },
  {
   "cell_type": "code",
   "execution_count": 7,
   "metadata": {},
   "outputs": [
    {
     "name": "stdout",
     "output_type": "stream",
     "text": [
      "enter the first name: Jane\n",
      "enter the scond name: Doe\n"
     ]
    },
    {
     "data": {
      "text/plain": [
       "'JD'"
      ]
     },
     "execution_count": 7,
     "metadata": {},
     "output_type": "execute_result"
    }
   ],
   "source": [
    "s=input(\"enter the first name: \")\n",
    "t=input(\"enter the scond name: \")\n",
    "i=s[0]+t[0]\n",
    "i\n",
    "\n"
   ]
  },
  {
   "cell_type": "markdown",
   "metadata": {},
   "source": [
    "2.22 The range of a list of numbers is the largest difference between any two numbers in the\n",
    "list. Write a Python expression that computes the range of a list of numbers lst. If the list\n",
    "lst is, say, [3, 7, -2, 12], the expression should evaluate to 14 (the difference between\n",
    "12 and −2)."
   ]
  },
  {
   "cell_type": "code",
   "execution_count": 12,
   "metadata": {},
   "outputs": [
    {
     "name": "stdout",
     "output_type": "stream",
     "text": [
      "the range of the list is 14\n"
     ]
    }
   ],
   "source": [
    "lst=[3, 7, -2, 12]\n",
    "r=max(lst)-min(lst)\n",
    "print(\"the range of the list is\",r)"
   ]
  },
  {
   "cell_type": "markdown",
   "metadata": {},
   "source": [
    "2.23 Start by assigning to variables monthsL and monthsT a list and a tuple, respectively,\n",
    "both containing strings 'Jan', 'Feb', 'Mar', and 'May', in that order. Then attempt the\n",
    "following with both containers:\n",
    "\n",
    "(a) Insert string 'Apr' between 'Mar' and 'May'.\n",
    "\n",
    "(b) Append string 'Jun'.\n",
    "\n",
    "(c) Pop the container.\n",
    "\n",
    "(d) Remove the second item in the container.\n",
    "\n",
    "(e) Reverse the order of items in the container.\n",
    "\n",
    "(f) Sort the container.\n",
    "\n",
    "Note: when attempting these on tuple monthsT you should expect errors."
   ]
  },
  {
   "cell_type": "code",
   "execution_count": 36,
   "metadata": {},
   "outputs": [
    {
     "data": {
      "text/plain": [
       "['Apr', 'Jan', 'Jun', 'Mar', 'May']"
      ]
     },
     "execution_count": 36,
     "metadata": {},
     "output_type": "execute_result"
    }
   ],
   "source": [
    "monthsL=['Jan', 'Feb', 'Mar', 'May']\n",
    "monthsT=('Jan', 'Feb', 'Mar', 'May')\n",
    "monthsL.insert(3,'Apr')\n",
    "monthsL.append('Jun')\n",
    "monthsL.remove(\"Feb\")\n",
    "monthsL.reverse()\n",
    "monthsL.sort()\n",
    "monthsL\n"
   ]
  },
  {
   "cell_type": "code",
   "execution_count": 37,
   "metadata": {},
   "outputs": [
    {
     "ename": "AttributeError",
     "evalue": "'tuple' object has no attribute 'insert'",
     "output_type": "error",
     "traceback": [
      "\u001b[0;31m---------------------------------------------------------------------------\u001b[0m",
      "\u001b[0;31mAttributeError\u001b[0m                            Traceback (most recent call last)",
      "\u001b[0;32m<ipython-input-37-6ad061037cf6>\u001b[0m in \u001b[0;36m<module>\u001b[0;34m\u001b[0m\n\u001b[0;32m----> 1\u001b[0;31m \u001b[0mmonthsT\u001b[0m\u001b[0;34m.\u001b[0m\u001b[0minsert\u001b[0m\u001b[0;34m(\u001b[0m\u001b[0;36m3\u001b[0m\u001b[0;34m,\u001b[0m\u001b[0;34m'Apr'\u001b[0m\u001b[0;34m)\u001b[0m\u001b[0;34m\u001b[0m\u001b[0;34m\u001b[0m\u001b[0m\n\u001b[0m",
      "\u001b[0;31mAttributeError\u001b[0m: 'tuple' object has no attribute 'insert'"
     ]
    }
   ],
   "source": [
    "monthsT.insert(3,'Apr')"
   ]
  },
  {
   "cell_type": "raw",
   "metadata": {},
   "source": [
    "2.24 Start by assigning to variable grades a list containing an arbitrary sequence of grades\n",
    "(strings) 'A', 'B', 'C', 'D', and 'F'. For example:\n",
    "grades = [ 'B' , 'B' , 'F' , 'C' , 'B' , 'A' , 'A' , 'D' , 'C' , 'D' , 'A' , 'A' , 'B' ]\n",
    "Write a sequence of Python statements that ultimately produce a list count that contains\n",
    "the numbers of occurrences of each grade in list grades in alphabetic order. For the given\n",
    "example, the list count should be [4, 4, 2, 2, 1]."
   ]
  },
  {
   "cell_type": "code",
   "execution_count": 51,
   "metadata": {},
   "outputs": [
    {
     "data": {
      "text/plain": [
       "[4, 4, 2, 2, 1]"
      ]
     },
     "execution_count": 51,
     "metadata": {},
     "output_type": "execute_result"
    }
   ],
   "source": [
    "grades = [ 'B' , 'B' , 'F' , 'C' , 'B' , 'A' , 'A' , 'D' , 'C' , 'D' , 'A' , 'A' , 'B' ] \n",
    "lst=list()\n",
    "for i in ['A','B','C','D','F']:\n",
    "    lst.append(grades.count(i))\n",
    "lst\n",
    "#grades"
   ]
  },
  {
   "cell_type": "markdown",
   "metadata": {},
   "source": [
    "2.25 Repeat Problem 2.24 with the following modification: variable grades is defined to\n",
    "be of type tuple rather than of type list:\n",
    "grades = ( 'B' , 'B' , 'F' , 'C' , 'B' , 'A' , 'A' , 'D' , 'C' , 'D' , 'A' , 'A' , 'B' )\n",
    "Variable count should still refer to a list."
   ]
  },
  {
   "cell_type": "code",
   "execution_count": 54,
   "metadata": {},
   "outputs": [
    {
     "data": {
      "text/plain": [
       "[4, 4, 2, 2, 1]"
      ]
     },
     "execution_count": 54,
     "metadata": {},
     "output_type": "execute_result"
    }
   ],
   "source": [
    "grades = ( 'B' , 'B' , 'F' , 'C' , 'B' , 'A' , 'A' , 'D' , 'C' , 'D' , 'A' , 'A' , 'B' ) \n",
    "lst=list()\n",
    "for i in ['A','B','C','D','F']:\n",
    "    lst.append(grades.count(i))\n",
    "lst\n"
   ]
  },
  {
   "cell_type": "markdown",
   "metadata": {},
   "source": [
    "2.26 A dartboard of radius 10 and the wall it is hanging on are represented using the two-\n",
    "dimensional coordinate system, with the board’s center at coordinate (0, 0). Variables x and\n",
    "y store the x- and y-coordinate of a dart hit. Write an expression using variables x and y\n",
    "that evaluates to True if the dart hits (is within) the dartboard, and evaluate the expression\n",
    "for these dart coordinates:\n",
    "\n",
    "(a) (0, 0)\n",
    "\n",
    "(b) (10, 10)\n",
    "\n",
    "(c) (6, −6)\n",
    "\n",
    "(d) (−7, 8)"
   ]
  },
  {
   "cell_type": "code",
   "execution_count": 76,
   "metadata": {},
   "outputs": [
    {
     "name": "stdout",
     "output_type": "stream",
     "text": [
      "Enter the X cordinate of the point: 0\n",
      "Enter the y coordinate of the point: 0\n",
      "you hit the target\n",
      "are you done: \n",
      "Enter the X cordinate of the point: 10\n",
      "Enter the y coordinate of the point: 10\n",
      "you hit the target\n",
      "are you done: \n",
      "Enter the X cordinate of the point: 6\n",
      "Enter the y coordinate of the point: -6\n",
      "you hit the target\n",
      "are you done: \n",
      "Enter the X cordinate of the point: -7\n",
      "Enter the y coordinate of the point: 8\n",
      "you hit the target\n",
      "are you done: yes\n"
     ]
    }
   ],
   "source": [
    "import math\n",
    "lp=\"no\"\n",
    "while lp != \"yes\":\n",
    "    x=int(input(\"Enter the X cordinate of the point: \"))\n",
    "    y=int(input('Enter the y coordinate of the point: '))\n",
    "    d=math.sqrt(x+y)\n",
    "    if d<10:\n",
    "        print(\"you hit the target\")\n",
    "    else:\n",
    "        print('oops you missed')\n",
    "    lp=input('are you done: ')"
   ]
  },
  {
   "cell_type": "markdown",
   "metadata": {},
   "source": [
    "2.27 A ladder put up right against a wall will fall over unless put up at a certain angle less\n",
    "than 90 degrees. Given variables length and angle storing the length of the ladder and the\n",
    "angle that it forms with the ground as it leans against the wall, write a Python expression\n",
    "involving length and angle that computes the height reached by the ladder. Evaluate the\n",
    "expression for these values of length and angle:\n",
    "\n",
    "(a) 16 feet and 75 degrees\n",
    "\n",
    "(b) 20 feet and 0 degrees\n",
    "\n",
    "(c) 24 feet and 45 degrees\n",
    "\n",
    "(d) 24 feet and 80 degrees\n",
    "\n",
    "Note: You will need to use the trig formula:\n",
    "\n",
    "height = length ∗ sin(angle)\n",
    "\n",
    "The math module sin() function takes its input in radians. You will thus need to convert\n",
    "the angle given in degrees to the angle given in radians using:\n",
    "\n",
    "π ∗ degrees\n",
    "/180"
   ]
  },
  {
   "cell_type": "code",
   "execution_count": 2,
   "metadata": {},
   "outputs": [
    {
     "name": "stdout",
     "output_type": "stream",
     "text": [
      "Length= 54\n",
      "Angle= 55\n",
      "The heigt of the ladder when Angle=55 degree and length= 54 is 43.686917696247164\n",
      "Are you done? :no\n",
      "Length= 15\n",
      "Angle= 88\n",
      "The heigt of the ladder when Angle=88 degree and length= 15 is 3.882285676537811\n",
      "Are you done? :yes\n"
     ]
    }
   ],
   "source": [
    "import math\n",
    "loop='no'\n",
    "while loop !='yes':\n",
    "    l=int(input('Length= '))\n",
    "    a=int(input('Angle= '))\n",
    "    ar=(math.pi*l)/180\n",
    "    h=l*math.sin(ar)\n",
    "    print('The heigt of the ladder when Angle='+str(a)+' degree and length= '+str(l)+ ' is '+str(h))\n",
    "    loop=input('Are you done? :')\n"
   ]
  },
  {
   "cell_type": "markdown",
   "metadata": {},
   "source": [
    "2.28 Write the relevant Python expression or statement, involving a list of numbers lst\n",
    "and using list operators and methods for these specifications:\n",
    "    \n",
    "(a) An expression that evaluates to the index of the middle element of lst\n",
    "\n",
    "(b) An expression that evaluates to the middle element of lst\n",
    "\n",
    "(c) A statement that sorts the list lst in descending order\n",
    "\n",
    "(d) A statement that removes the first number of list lst and puts it at the end\n",
    "\n",
    "Note: If a list has even length, then the middle element is defined to be the rightmost of the\n",
    "two elements in the middle of the list."
   ]
  },
  {
   "cell_type": "code",
   "execution_count": 100,
   "metadata": {},
   "outputs": [
    {
     "name": "stdout",
     "output_type": "stream",
     "text": [
      "the index of the middle element of lst is  4\n",
      "middle element of lst is  45\n",
      "list sorted in descending order  [234, 178, 55, 45, 44, 23, 9, 5, 2]\n",
      "modified list= [178, 55, 45, 44, 23, 9, 5, 2, 234]\n"
     ]
    }
   ],
   "source": [
    "lst=[2,5,55,44,45,178,9,234,23]\n",
    "l=len(lst)\n",
    "mindex=l//2\n",
    "print('the index of the middle element of lst is ',mindex)\n",
    "print('middle element of lst is ',lst[mindex])\n",
    "\n",
    "lst.sort(reverse=True)\n",
    "print('list sorted in descending order ',lst)\n",
    "\n",
    "g=lst[0]\n",
    "lst.remove(lst[0])\n",
    "lst.append(g)\n",
    "print('modified list=',lst)\n"
   ]
  },
  {
   "cell_type": "markdown",
   "metadata": {},
   "source": [
    "2.30 Using an example of your own, explicitly convert some string to a list. Describe, in\n",
    "your own words, the behavior of the list constructor on a string input.\n"
   ]
  },
  {
   "cell_type": "code",
   "execution_count": 107,
   "metadata": {},
   "outputs": [
    {
     "data": {
      "text/plain": [
       "['A',\n",
       " 'ladder',\n",
       " 'put',\n",
       " 'up',\n",
       " 'right',\n",
       " 'against',\n",
       " 'a',\n",
       " 'wall',\n",
       " 'will',\n",
       " 'fall',\n",
       " 'over']"
      ]
     },
     "execution_count": 107,
     "metadata": {},
     "output_type": "execute_result"
    }
   ],
   "source": [
    "str=\"A ladder put up right against a wall will fall over \"\n",
    "lst=list()\n",
    "for words in str:\n",
    "    lst=str.split()\n",
    "lst\n",
    "#in the above case we use the split funtion to split words in the list wit the delimiter white space\n",
    "#in order to put all elements of the given string we use the for loop"
   ]
  },
  {
   "cell_type": "code",
   "execution_count": null,
   "metadata": {},
   "outputs": [],
   "source": []
  }
 ],
 "metadata": {
  "kernelspec": {
   "display_name": "Python 3",
   "language": "python",
   "name": "python3"
  },
  "language_info": {
   "codemirror_mode": {
    "name": "ipython",
    "version": 3
   },
   "file_extension": ".py",
   "mimetype": "text/x-python",
   "name": "python",
   "nbconvert_exporter": "python",
   "pygments_lexer": "ipython3",
   "version": "3.8.5"
  }
 },
 "nbformat": 4,
 "nbformat_minor": 4
}
