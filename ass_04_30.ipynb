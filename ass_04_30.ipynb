{
 "cells": [
  {
   "cell_type": "code",
   "execution_count": 1,
   "metadata": {},
   "outputs": [
    {
     "name": "stdout",
     "output_type": "stream",
     "text": [
      "ass_04_30.ipynb  grades.txt  mbox-short.txt    py4e_09_04.ipynb  romeo.txt\r\n",
      "\u001b[0m\u001b[01;35mBook_page4.png\u001b[0m   \u001b[01;34mjithi\u001b[0m/      py4e_08_05.ipynb  read.pdf.txt      words.txt\r\n"
     ]
    }
   ],
   "source": [
    "ls"
   ]
  },
  {
   "cell_type": "code",
   "execution_count": 6,
   "metadata": {},
   "outputs": [
    {
     "name": "stdout",
     "output_type": "stream",
     "text": [
      "6 students got A \n",
      "2 students got A- \n",
      "3 students got B+ \n",
      "2 students got B \n",
      "4 students got C \n",
      "1 students got C- \n",
      "2 students got F \n"
     ]
    }
   ],
   "source": [
    "def distribution(filename):\n",
    "    file=open(filename)\n",
    "    data=file.read()\n",
    "    lst=data.split()\n",
    "    count=dict()\n",
    "    for grade in lst:\n",
    "        count[grade]=count.get(grade,0)+1\n",
    "    g=count.items()\n",
    "    for i in g:\n",
    "        print('{} students got {} '.format(i[1],i[0]))\n",
    "    #print(g)\n",
    "distribution('grades.txt')"
   ]
  },
  {
   "cell_type": "code",
   "execution_count": null,
   "metadata": {},
   "outputs": [],
   "source": [
    "    for i in count:\n",
    "        print(str(count[i])+' got'+str(cou))\n",
    "    distribution('grades.txt')"
   ]
  },
  {
   "cell_type": "code",
   "execution_count": null,
   "metadata": {},
   "outputs": [],
   "source": []
  }
 ],
 "metadata": {
  "kernelspec": {
   "display_name": "Python 3",
   "language": "python",
   "name": "python3"
  },
  "language_info": {
   "codemirror_mode": {
    "name": "ipython",
    "version": 3
   },
   "file_extension": ".py",
   "mimetype": "text/x-python",
   "name": "python",
   "nbconvert_exporter": "python",
   "pygments_lexer": "ipython3",
   "version": "3.8.5"
  }
 },
 "nbformat": 4,
 "nbformat_minor": 4
}
