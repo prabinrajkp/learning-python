{
 "cells": [
  {
   "cell_type": "markdown",
   "metadata": {},
   "source": [
    "# Evaluate the dataset containing the GDPs of different countries to:\n",
    "#### • Find and print the name of the country with the highest GDP,\n",
    "#### • Find and print the name of the country with the lowest GDP,\n",
    "#### • Print out text and input values iteratively,\n",
    "#### • Print out the entire list of the countries with their GDPs, and\n",
    "#### • Print the highest GDP value, lowest GDP value, mean GDP value, standardized GDP value, and the sum of all the GDPs"
   ]
  },
  {
   "cell_type": "code",
   "execution_count": 25,
   "metadata": {},
   "outputs": [],
   "source": [
    "import pandas as pd"
   ]
  },
  {
   "cell_type": "code",
   "execution_count": 26,
   "metadata": {},
   "outputs": [],
   "source": [
    "#opening the txt\n",
    "fh=open('CountriesGDP.txt')\n",
    "txt=fh.read() \n",
    "#txt\n"
   ]
  },
  {
   "cell_type": "code",
   "execution_count": 27,
   "metadata": {},
   "outputs": [
    {
     "data": {
      "text/plain": [
       "4"
      ]
     },
     "execution_count": 27,
     "metadata": {},
     "output_type": "execute_result"
    }
   ],
   "source": [
    "lst=txt.split('\\n\\n\\n')# print the txt(above cell) to understand\n",
    "len(lst)"
   ]
  },
  {
   "cell_type": "code",
   "execution_count": 28,
   "metadata": {},
   "outputs": [],
   "source": [
    "c=lst[1]\n",
    "con=c.split(',')# splitting"
   ]
  },
  {
   "cell_type": "code",
   "execution_count": 29,
   "metadata": {},
   "outputs": [],
   "source": [
    "g=lst[3]\n",
    "gdp=g.split(',')"
   ]
  },
  {
   "cell_type": "code",
   "execution_count": 30,
   "metadata": {},
   "outputs": [],
   "source": [
    "gdpp=list()\n",
    "for i in gdp:\n",
    "    gdpp.append(float(i))#converting str into float"
   ]
  },
  {
   "cell_type": "code",
   "execution_count": 31,
   "metadata": {},
   "outputs": [
    {
     "data": {
      "text/html": [
       "<div>\n",
       "<style scoped>\n",
       "    .dataframe tbody tr th:only-of-type {\n",
       "        vertical-align: middle;\n",
       "    }\n",
       "\n",
       "    .dataframe tbody tr th {\n",
       "        vertical-align: top;\n",
       "    }\n",
       "\n",
       "    .dataframe thead th {\n",
       "        text-align: right;\n",
       "    }\n",
       "</style>\n",
       "<table border=\"1\" class=\"dataframe\">\n",
       "  <thead>\n",
       "    <tr style=\"text-align: right;\">\n",
       "      <th></th>\n",
       "      <th>gdp</th>\n",
       "      <th>country</th>\n",
       "    </tr>\n",
       "  </thead>\n",
       "  <tbody>\n",
       "    <tr>\n",
       "      <th>0</th>\n",
       "      <td>2255.225482</td>\n",
       "      <td>'Algeria'</td>\n",
       "    </tr>\n",
       "    <tr>\n",
       "      <th>1</th>\n",
       "      <td>629.955306</td>\n",
       "      <td>'Angola'</td>\n",
       "    </tr>\n",
       "    <tr>\n",
       "      <th>2</th>\n",
       "      <td>11601.630220</td>\n",
       "      <td>'Argentina'</td>\n",
       "    </tr>\n",
       "    <tr>\n",
       "      <th>3</th>\n",
       "      <td>25306.824940</td>\n",
       "      <td>'Australia'</td>\n",
       "    </tr>\n",
       "    <tr>\n",
       "      <th>4</th>\n",
       "      <td>27266.403350</td>\n",
       "      <td>'Austria'</td>\n",
       "    </tr>\n",
       "    <tr>\n",
       "      <th>...</th>\n",
       "      <td>...</td>\n",
       "      <td>...</td>\n",
       "    </tr>\n",
       "    <tr>\n",
       "      <th>58</th>\n",
       "      <td>37691.027330</td>\n",
       "      <td>'United States'</td>\n",
       "    </tr>\n",
       "    <tr>\n",
       "      <th>59</th>\n",
       "      <td>9581.056590</td>\n",
       "      <td>'Uruguay'</td>\n",
       "    </tr>\n",
       "    <tr>\n",
       "      <th>60</th>\n",
       "      <td>5671.912202</td>\n",
       "      <td>'Venezuela'</td>\n",
       "    </tr>\n",
       "    <tr>\n",
       "      <th>61</th>\n",
       "      <td>757.400929</td>\n",
       "      <td>'Vietnam'</td>\n",
       "    </tr>\n",
       "    <tr>\n",
       "      <th>62</th>\n",
       "      <td>347.745660</td>\n",
       "      <td>'Zimbabwe'</td>\n",
       "    </tr>\n",
       "  </tbody>\n",
       "</table>\n",
       "<p>63 rows × 2 columns</p>\n",
       "</div>"
      ],
      "text/plain": [
       "             gdp          country\n",
       "0    2255.225482        'Algeria'\n",
       "1     629.955306         'Angola'\n",
       "2   11601.630220      'Argentina'\n",
       "3   25306.824940      'Australia'\n",
       "4   27266.403350        'Austria'\n",
       "..           ...              ...\n",
       "58  37691.027330  'United States'\n",
       "59   9581.056590        'Uruguay'\n",
       "60   5671.912202      'Venezuela'\n",
       "61    757.400929        'Vietnam'\n",
       "62    347.745660       'Zimbabwe'\n",
       "\n",
       "[63 rows x 2 columns]"
      ]
     },
     "execution_count": 31,
     "metadata": {},
     "output_type": "execute_result"
    }
   ],
   "source": [
    "df=pd.DataFrame(zip(gdpp,con),columns=['gdp','country'])# dataframe\n",
    "df"
   ]
  },
  {
   "cell_type": "code",
   "execution_count": 32,
   "metadata": {},
   "outputs": [
    {
     "data": {
      "text/html": [
       "<div>\n",
       "<style scoped>\n",
       "    .dataframe tbody tr th:only-of-type {\n",
       "        vertical-align: middle;\n",
       "    }\n",
       "\n",
       "    .dataframe tbody tr th {\n",
       "        vertical-align: top;\n",
       "    }\n",
       "\n",
       "    .dataframe thead th {\n",
       "        text-align: right;\n",
       "    }\n",
       "</style>\n",
       "<table border=\"1\" class=\"dataframe\">\n",
       "  <thead>\n",
       "    <tr style=\"text-align: right;\">\n",
       "      <th></th>\n",
       "      <th>gdp</th>\n",
       "      <th>country</th>\n",
       "    </tr>\n",
       "  </thead>\n",
       "  <tbody>\n",
       "    <tr>\n",
       "      <th>45</th>\n",
       "      <td>40034.85063</td>\n",
       "      <td>'Norway'</td>\n",
       "    </tr>\n",
       "  </tbody>\n",
       "</table>\n",
       "</div>"
      ],
      "text/plain": [
       "            gdp   country\n",
       "45  40034.85063  'Norway'"
      ]
     },
     "execution_count": 32,
     "metadata": {},
     "output_type": "execute_result"
    }
   ],
   "source": [
    "# max GDP\n",
    "df.loc[df['gdp']==max(df['gdp'])]"
   ]
  },
  {
   "cell_type": "code",
   "execution_count": 33,
   "metadata": {},
   "outputs": [
    {
     "data": {
      "text/html": [
       "<div>\n",
       "<style scoped>\n",
       "    .dataframe tbody tr th:only-of-type {\n",
       "        vertical-align: middle;\n",
       "    }\n",
       "\n",
       "    .dataframe tbody tr th {\n",
       "        vertical-align: top;\n",
       "    }\n",
       "\n",
       "    .dataframe thead th {\n",
       "        text-align: right;\n",
       "    }\n",
       "</style>\n",
       "<table border=\"1\" class=\"dataframe\">\n",
       "  <thead>\n",
       "    <tr style=\"text-align: right;\">\n",
       "      <th></th>\n",
       "      <th>gdp</th>\n",
       "      <th>country</th>\n",
       "    </tr>\n",
       "  </thead>\n",
       "  <tbody>\n",
       "    <tr>\n",
       "      <th>21</th>\n",
       "      <td>229.676952</td>\n",
       "      <td>'Ethiopia'</td>\n",
       "    </tr>\n",
       "  </tbody>\n",
       "</table>\n",
       "</div>"
      ],
      "text/plain": [
       "           gdp     country\n",
       "21  229.676952  'Ethiopia'"
      ]
     },
     "execution_count": 33,
     "metadata": {},
     "output_type": "execute_result"
    }
   ],
   "source": [
    "# min GDP \n",
    "df.loc[df['gdp']==min(df['gdp'])]"
   ]
  },
  {
   "cell_type": "code",
   "execution_count": 34,
   "metadata": {},
   "outputs": [
    {
     "data": {
      "text/plain": [
       "711232.7841133"
      ]
     },
     "execution_count": 34,
     "metadata": {},
     "output_type": "execute_result"
    }
   ],
   "source": []
  },
  {
   "cell_type": "code",
   "execution_count": 35,
   "metadata": {
    "scrolled": true
   },
   "outputs": [
    {
     "data": {
      "text/plain": [
       "array([[2255.225482, \"'Algeria'\"],\n",
       "       [629.9553062, \"'Angola'\"],\n",
       "       [11601.63022, \"'Argentina'\"],\n",
       "       [25306.82494, \"'Australia'\"],\n",
       "       [27266.40335, \"'Austria'\"],\n",
       "       [19466.99052, \"'Bahamas'\"],\n",
       "       [588.3691778, \"'Bangladesh'\"],\n",
       "       [2890.345675, \"'Belarus'\"],\n",
       "       [24733.62696, \"'Belgium'\"],\n",
       "       [1445.760002, \"'Bhutan'\"],\n",
       "       [4803.398244, \"'Brazil'\"],\n",
       "       [2618.876037, \"'Bulgaria'\"],\n",
       "       [590.4521124, \"'Cambodia'\"],\n",
       "       [665.7982328, \"'Cameroon'\"],\n",
       "       [7122.938458, \"'Chile'\"],\n",
       "       [2639.54156, \"'China'\"],\n",
       "       [3362.4656, \"'Colombia'\"],\n",
       "       [15378.16704, \"'Cyprus'\"],\n",
       "       [30860.12808, \"'Denmark'\"],\n",
       "       [2579.115607, \"'El Salvador'\"],\n",
       "       [6525.541272, \"'Estonia'\"],\n",
       "       [229.6769525, \"'Ethiopia'\"],\n",
       "       [2242.689259, \"'Fiji'\"],\n",
       "       [27570.4852, \"'Finland'\"],\n",
       "       [23016.84778, \"'France'\"],\n",
       "       [1334.646773, \"'Georgia'\"],\n",
       "       [402.6953275, \"'Ghana'\"],\n",
       "       [6047.200797, \"'Grenada'\"],\n",
       "       [394.1156638, \"'Guinea'\"],\n",
       "       [385.5793827, \"'Haiti'\"],\n",
       "       [1414.072488, \"'Honduras'\"],\n",
       "       [5745.981529, \"'Hungary'\"],\n",
       "       [837.7464011, \"'India'\"],\n",
       "       [1206.991065, \"'Indonesia'\"],\n",
       "       [27715.52837, \"'Ireland'\"],\n",
       "       [18937.24998, \"'Italy'\"],\n",
       "       [39578.07441, \"'Japan'\"],\n",
       "       [478.2194906, \"'Kenya'\"],\n",
       "       [16684.21278, \" 'South Korea'\"],\n",
       "       [279.2204061, \"'Liberia'\"],\n",
       "       [5345.213415, \"'Malaysia'\"],\n",
       "       [6288.25324, \"'Mexico'\"],\n",
       "       [1908.304416, \" 'Morocco'\"],\n",
       "       [274.8728621, \"'Nepal'\"],\n",
       "       [14646.42094, \"'New Zealand'\"],\n",
       "       [40034.85063, \"'Norway'\"],\n",
       "       [672.1547506, \"'Pakistan'\"],\n",
       "       [3359.517402, \" 'Peru'\"],\n",
       "       [36152.66676, \"'Qatar'\"],\n",
       "       [3054.727742, \"'Russia'\"],\n",
       "       [33529.83052, \"'Singapore'\"],\n",
       "       [3825.093781, \"'South Africa'\"],\n",
       "       [15428.32098, \"'Spain'\"],\n",
       "       [33630.24604, \"'Sweden'\"],\n",
       "       [39170.41371, \"'Switzerland'\"],\n",
       "       [2699.123242, \"'Thailand'\"],\n",
       "       [21058.43643, \" 'United Arab Emirates'\"],\n",
       "       [28272.40661, \"'United Kingdom'\"],\n",
       "       [37691.02733, \"'United States'\"],\n",
       "       [9581.05659, \"'Uruguay'\"],\n",
       "       [5671.912202, \"'Venezuela'\"],\n",
       "       [757.4009286, \"'Vietnam'\"],\n",
       "       [347.7456605, \"'Zimbabwe'\"]], dtype=object)"
      ]
     },
     "execution_count": 35,
     "metadata": {},
     "output_type": "execute_result"
    }
   ],
   "source": [
    "df.values #entire list of the countries with their GDPs"
   ]
  },
  {
   "cell_type": "code",
   "execution_count": 37,
   "metadata": {},
   "outputs": [
    {
     "data": {
      "text/html": [
       "<div>\n",
       "<style scoped>\n",
       "    .dataframe tbody tr th:only-of-type {\n",
       "        vertical-align: middle;\n",
       "    }\n",
       "\n",
       "    .dataframe tbody tr th {\n",
       "        vertical-align: top;\n",
       "    }\n",
       "\n",
       "    .dataframe thead th {\n",
       "        text-align: right;\n",
       "    }\n",
       "</style>\n",
       "<table border=\"1\" class=\"dataframe\">\n",
       "  <thead>\n",
       "    <tr style=\"text-align: right;\">\n",
       "      <th></th>\n",
       "      <th>gdp</th>\n",
       "    </tr>\n",
       "  </thead>\n",
       "  <tbody>\n",
       "    <tr>\n",
       "      <th>count</th>\n",
       "      <td>63.000000</td>\n",
       "    </tr>\n",
       "    <tr>\n",
       "      <th>mean</th>\n",
       "      <td>11289.409272</td>\n",
       "    </tr>\n",
       "    <tr>\n",
       "      <th>std</th>\n",
       "      <td>12846.190627</td>\n",
       "    </tr>\n",
       "    <tr>\n",
       "      <th>min</th>\n",
       "      <td>229.676952</td>\n",
       "    </tr>\n",
       "    <tr>\n",
       "      <th>25%</th>\n",
       "      <td>1270.818919</td>\n",
       "    </tr>\n",
       "    <tr>\n",
       "      <th>50%</th>\n",
       "      <td>4803.398244</td>\n",
       "    </tr>\n",
       "    <tr>\n",
       "      <th>75%</th>\n",
       "      <td>20262.713475</td>\n",
       "    </tr>\n",
       "    <tr>\n",
       "      <th>max</th>\n",
       "      <td>40034.850630</td>\n",
       "    </tr>\n",
       "  </tbody>\n",
       "</table>\n",
       "</div>"
      ],
      "text/plain": [
       "                gdp\n",
       "count     63.000000\n",
       "mean   11289.409272\n",
       "std    12846.190627\n",
       "min      229.676952\n",
       "25%     1270.818919\n",
       "50%     4803.398244\n",
       "75%    20262.713475\n",
       "max    40034.850630"
      ]
     },
     "execution_count": 37,
     "metadata": {},
     "output_type": "execute_result"
    }
   ],
   "source": [
    "df.describe()#highest GDP value, \n",
    "#lowest GDP value, mean GDP value, \n",
    "#standardized GDP value"
   ]
  },
  {
   "cell_type": "code",
   "execution_count": 38,
   "metadata": {},
   "outputs": [
    {
     "data": {
      "text/plain": [
       "711232.7841133"
      ]
     },
     "execution_count": 38,
     "metadata": {},
     "output_type": "execute_result"
    }
   ],
   "source": [
    "#sum of all the GDPs\n",
    "s=df['gdp'].sum()\n",
    "s"
   ]
  },
  {
   "cell_type": "code",
   "execution_count": null,
   "metadata": {},
   "outputs": [],
   "source": []
  },
  {
   "cell_type": "code",
   "execution_count": null,
   "metadata": {},
   "outputs": [],
   "source": []
  }
 ],
 "metadata": {
  "kernelspec": {
   "display_name": "Python 3",
   "language": "python",
   "name": "python3"
  },
  "language_info": {
   "codemirror_mode": {
    "name": "ipython",
    "version": 3
   },
   "file_extension": ".py",
   "mimetype": "text/x-python",
   "name": "python",
   "nbconvert_exporter": "python",
   "pygments_lexer": "ipython3",
   "version": "3.8.5"
  }
 },
 "nbformat": 4,
 "nbformat_minor": 4
}
