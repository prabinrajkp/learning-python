{
 "cells": [
  {
   "cell_type": "markdown",
   "metadata": {},
   "source": [
    "# PRABIN RAJ K P\n",
    "## MSc Data Science\n",
    "## MSc Data Science\n"
   ]
  },
  {
   "cell_type": "markdown",
   "metadata": {},
   "source": [
    "### Practice Problems - chapter 5"
   ]
  },
  {
   "cell_type": "markdown",
   "metadata": {},
   "source": [
    "Implement function myBMI() that takes as input a person’s height (in inches) and weight\n",
    "(in pounds) and computes the person’s Body Mass Index (BMI). The BMI formula is:\n",
    "\n",
    "bmi =\n",
    "   \n",
    "  ( weight ∗ 703)/ height^2\n",
    "   \n",
    "Your functions should print the string 'Underweight' if bmi < 18.5, 'Normal' if 18.5 <=\n",
    "bmi < 25, and Overweight if bmi >= 25."
   ]
  },
  {
   "cell_type": "code",
   "execution_count": 2,
   "metadata": {},
   "outputs": [
    {
     "name": "stdout",
     "output_type": "stream",
     "text": [
      "Overweight\n"
     ]
    }
   ],
   "source": [
    "def myBMI(h,w):\n",
    "    b=(w*703)/(h**2)\n",
    "    if b<18.5:\n",
    "        print('Underweight')\n",
    "    elif 18.5<=b<25:\n",
    "        print('Normal')\n",
    "    else:\n",
    "        print('Overweight')\n",
    "myBMI(61,250)"
   ]
  },
  {
   "cell_type": "markdown",
   "metadata": {},
   "source": [
    "Write a function named powers() that takes a positive integer n as input and prints, on the\n",
    "screen, all the powers of 2 from 2^1 to 2^n .\n",
    "\n",
    "powers(6)\n",
    "\n",
    "2 4 8 16 32 64"
   ]
  },
  {
   "cell_type": "code",
   "execution_count": 7,
   "metadata": {},
   "outputs": [
    {
     "name": "stdout",
     "output_type": "stream",
     "text": [
      "2 4 8 16 32 64 "
     ]
    }
   ],
   "source": [
    "def power(n):\n",
    "    for i in range(1,n+1):\n",
    "        print(2**i,end=\" \")\n",
    "power(6)\n"
   ]
  },
  {
   "cell_type": "markdown",
   "metadata": {},
   "source": [
    "5.3 Write function arithmetic() that takes a list of integers as input and returns True if they\n",
    "form an arithmetic sequence. (A sequence of integers is an arithmetic sequence if the dif-\n",
    "ference between consecutive items of the list is always the same.)\n",
    "\n",
    "arithmetic([3, 6, 9, 12, 15])\n",
    "\n",
    "True\n",
    "\n",
    "arithmetic([3, 6, 9, 11, 14])\n",
    "\n",
    "False\n",
    "\n",
    "arithmetic([3])\n",
    "\n",
    "True"
   ]
  },
  {
   "cell_type": "code",
   "execution_count": 17,
   "metadata": {},
   "outputs": [
    {
     "name": "stdout",
     "output_type": "stream",
     "text": [
      "3\n",
      "3\n",
      "6\n",
      "9\n",
      "11\n",
      "14\n"
     ]
    }
   ],
   "source": [
    "def arithmetic(lst):\n",
    "    d=lst[1]-lst[0]\n",
    "    for i in lst:\n",
    "        f=i\n",
    "        \n",
    "        \n",
    "    \n",
    "        \n",
    "#arithmetic([3, 6, 9, 12, 15])\n",
    "arithmetic([3, 6, 9, 11, 14])\n",
    "\n",
    "\n"
   ]
  },
  {
   "cell_type": "code",
   "execution_count": null,
   "metadata": {},
   "outputs": [],
   "source": []
  }
 ],
 "metadata": {
  "kernelspec": {
   "display_name": "Python 3",
   "language": "python",
   "name": "python3"
  },
  "language_info": {
   "codemirror_mode": {
    "name": "ipython",
    "version": 3
   },
   "file_extension": ".py",
   "mimetype": "text/x-python",
   "name": "python",
   "nbconvert_exporter": "python",
   "pygments_lexer": "ipython3",
   "version": "3.8.5"
  }
 },
 "nbformat": 4,
 "nbformat_minor": 4
}
